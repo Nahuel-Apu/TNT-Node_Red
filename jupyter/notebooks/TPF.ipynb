{
 "cells": [
  {
   "cell_type": "code",
   "execution_count": 1,
   "metadata": {},
   "outputs": [],
   "source": [
    "import ipywidgets as widgets\n",
    "from traitlets import Unicode, Int, validate"
   ]
  },
  {
   "cell_type": "code",
   "execution_count": 2,
   "metadata": {},
   "outputs": [],
   "source": [
    "class BinaryWidget(widgets.DOMWidget):\n",
    "    _view_name = Unicode('BinaryView').tag(sync=True)\n",
    "    _view_module = Unicode('binary').tag(sync=True)\n",
    "    value = Int(0).tag(sync=True)"
   ]
  },
  {
   "cell_type": "code",
   "execution_count": 3,
   "metadata": {},
   "outputs": [
    {
     "data": {
      "application/javascript": [
       "// We make sure the `counter` module is defined\n",
       "// only once.\n",
       "require.undef('binary');\n",
       "\n",
       "// We define the `counter` module depending on the\n",
       "// Jupyter widgets framework.\n",
       "define('binary', [\"@jupyter-widgets/base\"],\n",
       "       function(widgets) {\n",
       "\n",
       "    // We create the CounterView frontend class,\n",
       "    // deriving from DOMWidgetView.\n",
       "    var BinaryView = widgets.DOMWidgetView.extend({\n",
       "\n",
       "        // This method creates the HTML widget.\n",
       "        render: function() {\n",
       "            // The value_changed() method should be\n",
       "            // called when the model's value changes\n",
       "            // on the kernel side.\n",
       "            this.value_changed();\n",
       "            this.model.on('change:value',\n",
       "                          this.value_changed, this);\n",
       "\n",
       "            var model = this.model;\n",
       "            var that = this;\n",
       "\n",
       "            // We create the plus and minus buttons.\n",
       "            this.bm = $('<button/>')\n",
       "            .text('-')\n",
       "            .click(function() {\n",
       "                // When the button is clicked,\n",
       "                // the model's value is updated.\n",
       "                var x = model.get('value');\n",
       "                model.set('value', x - 1);\n",
       "                that.touch();\n",
       "            });\n",
       "\n",
       "            this.bp = $('<button/>')\n",
       "            .text('+')\n",
       "            .click(function() {\n",
       "                var x = model.get('value');\n",
       "                model.set('value', x + 1);\n",
       "                that.touch();\n",
       "            });\n",
       "            \n",
       "           // This element displays the current\n",
       "            // value of the counter.\n",
       "            this.span = $('<span />')\n",
       "            .text('0')\n",
       "            .css({marginLeft: '10px',\n",
       "                  marginRight: '10px'});\n",
       "\n",
       "            // this.el represents the widget's DOM\n",
       "            // element. We add the minus button,\n",
       "            // the span element, and the plus button.\n",
       "            $(this.el)\n",
       "            .append(this.bm)\n",
       "            .append(this.span)\n",
       "            .append(this.bp);\n",
       "        },      \n",
       "        \n",
       "        value_changed: function() {\n",
       "            // Update the displayed number when the\n",
       "            // counter's value changes.\n",
       "            \n",
       "            function pad(input, length, padding) { \n",
       "              var str = input + \"\";\n",
       "              return (length <= str.length) ? str : pad(padding + str, length, padding);\n",
       "            }\n",
       "            \n",
       "            var x = this.model.get('value');\n",
       "            var b = this.model.get('value');\n",
       "        \n",
       "            b = x.toString(2);\n",
       "            var bin = pad(b,16,\"0\");\n",
       "           \n",
       "            $($(this.el).children()[1]).text(bin);\n",
       "        },\n",
       "    });\n",
       "\n",
       "    return {\n",
       "        BinaryView : BinaryView\n",
       "    };\n",
       "});"
      ],
      "text/plain": [
       "<IPython.core.display.Javascript object>"
      ]
     },
     "metadata": {},
     "output_type": "display_data"
    }
   ],
   "source": [
    "%%javascript\n",
    "// We make sure the `counter` module is defined\n",
    "// only once.\n",
    "require.undef('binary');\n",
    "\n",
    "// We define the `counter` module depending on the\n",
    "// Jupyter widgets framework.\n",
    "define('binary', [\"@jupyter-widgets/base\"],\n",
    "       function(widgets) {\n",
    "\n",
    "    // We create the CounterView frontend class,\n",
    "    // deriving from DOMWidgetView.\n",
    "    var BinaryView = widgets.DOMWidgetView.extend({\n",
    "\n",
    "        // This method creates the HTML widget.\n",
    "        render: function() {\n",
    "            // The value_changed() method should be\n",
    "            // called when the model's value changes\n",
    "            // on the kernel side.\n",
    "            this.value_changed();\n",
    "            this.model.on('change:value',\n",
    "                          this.value_changed, this);\n",
    "\n",
    "            var model = this.model;\n",
    "            var that = this;\n",
    "\n",
    "            // We create the plus and minus buttons.\n",
    "            this.bm = $('<button/>')\n",
    "            .text('-')\n",
    "            .click(function() {\n",
    "                // When the button is clicked,\n",
    "                // the model's value is updated.\n",
    "                var x = model.get('value');\n",
    "                model.set('value', x - 1);\n",
    "                that.touch();\n",
    "            });\n",
    "\n",
    "            this.bp = $('<button/>')\n",
    "            .text('+')\n",
    "            .click(function() {\n",
    "                var x = model.get('value');\n",
    "                model.set('value', x + 1);\n",
    "                that.touch();\n",
    "            });\n",
    "            \n",
    "           // This element displays the current\n",
    "            // value of the counter.\n",
    "            this.span = $('<span />')\n",
    "            .text('0')\n",
    "            .css({marginLeft: '10px',\n",
    "                  marginRight: '10px'});\n",
    "\n",
    "            // this.el represents the widget's DOM\n",
    "            // element. We add the minus button,\n",
    "            // the span element, and the plus button.\n",
    "            $(this.el)\n",
    "            .append(this.bm)\n",
    "            .append(this.span)\n",
    "            .append(this.bp);\n",
    "        },      \n",
    "        \n",
    "        value_changed: function() {\n",
    "            // Update the displayed number when the\n",
    "            // counter's value changes.\n",
    "            \n",
    "            function pad(input, length, padding) { \n",
    "              var str = input + \"\";\n",
    "              return (length <= str.length) ? str : pad(padding + str, length, padding);\n",
    "            }\n",
    "            \n",
    "            var x = this.model.get('value');\n",
    "            var b = this.model.get('value');\n",
    "        \n",
    "            b = x.toString(2);\n",
    "            var bin = pad(b,16,\"0\");\n",
    "           \n",
    "            $($(this.el).children()[1]).text(bin);\n",
    "        },\n",
    "    });\n",
    "\n",
    "    return {\n",
    "        BinaryView : BinaryView\n",
    "    };\n",
    "});"
   ]
  },
  {
   "cell_type": "code",
   "execution_count": 4,
   "metadata": {},
   "outputs": [
    {
     "data": {
      "application/vnd.jupyter.widget-view+json": {
       "model_id": "47a0fc1907ba4f7293150063a30dfbf0",
       "version_major": 2,
       "version_minor": 0
      },
      "text/plain": [
       "BinaryWidget()"
      ]
     },
     "metadata": {},
     "output_type": "display_data"
    }
   ],
   "source": [
    "w = BinaryWidget()\n",
    "w"
   ]
  },
  {
   "cell_type": "code",
   "execution_count": 5,
   "metadata": {},
   "outputs": [],
   "source": [
    "class HexaWidget(widgets.DOMWidget):\n",
    "    _view_name = Unicode('HexaView').tag(sync=True)\n",
    "    _view_module = Unicode('hexa').tag(sync=True)\n",
    "    value = Int(0).tag(sync=True)"
   ]
  },
  {
   "cell_type": "code",
   "execution_count": 6,
   "metadata": {},
   "outputs": [
    {
     "data": {
      "application/javascript": [
       "// We make sure the `counter` module is defined\n",
       "// only once.\n",
       "require.undef('hexa');\n",
       "\n",
       "// We define the `counter` module depending on the\n",
       "// Jupyter widgets framework.\n",
       "define('hexa', [\"@jupyter-widgets/base\"],\n",
       "       function(widgets) {\n",
       "\n",
       "    // We create the CounterView frontend class,\n",
       "    // deriving from DOMWidgetView.\n",
       "    var HexaView = widgets.DOMWidgetView.extend({\n",
       "\n",
       "        // This method creates the HTML widget.\n",
       "        render: function() {\n",
       "            // The value_changed() method should be\n",
       "            // called when the model's value changes\n",
       "            // on the kernel side.\n",
       "            this.value_changed();\n",
       "            this.model.on('change:value',\n",
       "                          this.value_changed, this);\n",
       "\n",
       "            var model = this.model;\n",
       "            var that = this;\n",
       "\n",
       "            // We create the plus and minus buttons.\n",
       "            this.bm = $('<button/>')\n",
       "            .text('-')\n",
       "            .click(function() {\n",
       "                // When the button is clicked,\n",
       "                // the model's value is updated.\n",
       "                var x = model.get('value');\n",
       "                model.set('value', x - 1);\n",
       "                that.touch();\n",
       "            });\n",
       "\n",
       "            this.bp = $('<button/>')\n",
       "            .text('+')\n",
       "            .click(function() {\n",
       "                var x = model.get('value');\n",
       "                model.set('value', x + 1);\n",
       "                that.touch();\n",
       "            });\n",
       "            \n",
       "           // This element displays the current\n",
       "            // value of the counter.\n",
       "            this.span = $('<span />')\n",
       "            .text('0')\n",
       "            .css({marginLeft: '10px',\n",
       "                  marginRight: '10px'});\n",
       "\n",
       "            // this.el represents the widget's DOM\n",
       "            // element. We add the minus button,\n",
       "            // the span element, and the plus button.\n",
       "            $(this.el)\n",
       "            .append(this.bm)\n",
       "            .append(this.span)\n",
       "            .append(this.bp);\n",
       "        },\n",
       "\n",
       "        value_changed: function() {\n",
       "            // Update the displayed number when the\n",
       "            // counter's value changes.\n",
       "   \n",
       "            function pad(input, length, padding) { \n",
       "              var str = input + \"\";\n",
       "              return (length <= str.length) ? str : pad(padding + str, length, padding);\n",
       "            }\n",
       "            \n",
       "            var x = this.model.get('value');\n",
       "            var h = this.model.get('value');\n",
       "        \n",
       "            h = x.toString(16);\n",
       "            var hexa = pad(h,4,\"0\");\n",
       "           \n",
       "            $($(this.el).children()[1]).text(hexa);\n",
       "        },\n",
       "    });\n",
       "\n",
       "    return {\n",
       "        HexaView : HexaView\n",
       "    };\n",
       "});"
      ],
      "text/plain": [
       "<IPython.core.display.Javascript object>"
      ]
     },
     "metadata": {},
     "output_type": "display_data"
    }
   ],
   "source": [
    "%%javascript\n",
    "// We make sure the `counter` module is defined\n",
    "// only once.\n",
    "require.undef('hexa');\n",
    "\n",
    "// We define the `counter` module depending on the\n",
    "// Jupyter widgets framework.\n",
    "define('hexa', [\"@jupyter-widgets/base\"],\n",
    "       function(widgets) {\n",
    "\n",
    "    // We create the CounterView frontend class,\n",
    "    // deriving from DOMWidgetView.\n",
    "    var HexaView = widgets.DOMWidgetView.extend({\n",
    "\n",
    "        // This method creates the HTML widget.\n",
    "        render: function() {\n",
    "            // The value_changed() method should be\n",
    "            // called when the model's value changes\n",
    "            // on the kernel side.\n",
    "            this.value_changed();\n",
    "            this.model.on('change:value',\n",
    "                          this.value_changed, this);\n",
    "\n",
    "            var model = this.model;\n",
    "            var that = this;\n",
    "\n",
    "            // We create the plus and minus buttons.\n",
    "            this.bm = $('<button/>')\n",
    "            .text('-')\n",
    "            .click(function() {\n",
    "                // When the button is clicked,\n",
    "                // the model's value is updated.\n",
    "                var x = model.get('value');\n",
    "                model.set('value', x - 1);\n",
    "                that.touch();\n",
    "            });\n",
    "\n",
    "            this.bp = $('<button/>')\n",
    "            .text('+')\n",
    "            .click(function() {\n",
    "                var x = model.get('value');\n",
    "                model.set('value', x + 1);\n",
    "                that.touch();\n",
    "            });\n",
    "            \n",
    "           // This element displays the current\n",
    "            // value of the counter.\n",
    "            this.span = $('<span />')\n",
    "            .text('0')\n",
    "            .css({marginLeft: '10px',\n",
    "                  marginRight: '10px'});\n",
    "\n",
    "            // this.el represents the widget's DOM\n",
    "            // element. We add the minus button,\n",
    "            // the span element, and the plus button.\n",
    "            $(this.el)\n",
    "            .append(this.bm)\n",
    "            .append(this.span)\n",
    "            .append(this.bp);\n",
    "        },\n",
    "\n",
    "        value_changed: function() {\n",
    "            // Update the displayed number when the\n",
    "            // counter's value changes.\n",
    "   \n",
    "            function pad(input, length, padding) { \n",
    "              var str = input + \"\";\n",
    "              return (length <= str.length) ? str : pad(padding + str, length, padding);\n",
    "            }\n",
    "            \n",
    "            var x = this.model.get('value');\n",
    "            var h = this.model.get('value');\n",
    "        \n",
    "            h = x.toString(16);\n",
    "            var hexa = pad(h,4,\"0\");\n",
    "           \n",
    "            $($(this.el).children()[1]).text(hexa);\n",
    "        },\n",
    "    });\n",
    "\n",
    "    return {\n",
    "        HexaView : HexaView\n",
    "    };\n",
    "});"
   ]
  },
  {
   "cell_type": "code",
   "execution_count": 7,
   "metadata": {},
   "outputs": [
    {
     "data": {
      "application/vnd.jupyter.widget-view+json": {
       "model_id": "9d3ef53c6b364e2c9552c912ed6c2544",
       "version_major": 2,
       "version_minor": 0
      },
      "text/plain": [
       "HexaWidget()"
      ]
     },
     "metadata": {},
     "output_type": "display_data"
    }
   ],
   "source": [
    "wh = HexaWidget()\n",
    "wh"
   ]
  },
  {
   "cell_type": "code",
   "execution_count": 9,
   "metadata": {},
   "outputs": [],
   "source": [
    "import traitlets"
   ]
  },
  {
   "cell_type": "code",
   "execution_count": 10,
   "metadata": {},
   "outputs": [
    {
     "data": {
      "application/vnd.jupyter.widget-view+json": {
       "model_id": "671128852c474979bf282b5e3dc0f1e8",
       "version_major": 2,
       "version_minor": 0
      },
      "text/plain": [
       "Label(value='Los valores binario y hexadecimal estan sincronizados')"
      ]
     },
     "metadata": {},
     "output_type": "display_data"
    },
    {
     "data": {
      "application/vnd.jupyter.widget-view+json": {
       "model_id": "5ef966dbc2c54a7b8fe3950686cd8c16",
       "version_major": 2,
       "version_minor": 0
      },
      "text/plain": [
       "HexaWidget()"
      ]
     },
     "metadata": {},
     "output_type": "display_data"
    },
    {
     "data": {
      "application/vnd.jupyter.widget-view+json": {
       "model_id": "9324e38474574460a26bdcaa43800b3c",
       "version_major": 2,
       "version_minor": 0
      },
      "text/plain": [
       "BinaryWidget()"
      ]
     },
     "metadata": {},
     "output_type": "display_data"
    }
   ],
   "source": [
    "mesagge = widgets.Label(value = 'Los valores binario y hexadecimal estan sincronizados')\n",
    "whexa = HexaWidget()\n",
    "wbinary = BinaryWidget()\n",
    "l = traitlets.link((whexa, 'value'), (wbinary, 'value'))\n",
    "display(mesagge, whexa, wbinary)"
   ]
  },
  {
   "cell_type": "code",
   "execution_count": null,
   "metadata": {},
   "outputs": [],
   "source": [
    "widgets.IntSlider(\n",
    "    value=20,\n",
    "    min=0,\n",
    "    max=100,\n",
    "    step=10,\n",
    "    description='Olla de Hervor:',\n",
    "    disabled=False,\n",
    "    continuous_update=False,\n",
    "    orientation='horizontal',\n",
    "    readout=True,\n",
    "    readout_format='d'\n",
    ")"
   ]
  },
  {
   "cell_type": "code",
   "execution_count": null,
   "metadata": {},
   "outputs": [],
   "source": [
    "widgets.IntRangeSlider(\n",
    "    value=[5, 10],\n",
    "    min=0,\n",
    "    max=50,\n",
    "    step=5,\n",
    "    description='Tubo de Presion co2:',\n",
    "    disabled=False,\n",
    "    continuous_update=False,\n",
    "    orientation='horizontal',\n",
    "    readout=True,\n",
    "    readout_format='d',\n",
    ")"
   ]
  }
 ],
 "metadata": {
  "kernelspec": {
   "display_name": "Python 3",
   "language": "python",
   "name": "python3"
  },
  "language_info": {
   "codemirror_mode": {
    "name": "ipython",
    "version": 3
   },
   "file_extension": ".py",
   "mimetype": "text/x-python",
   "name": "python",
   "nbconvert_exporter": "python",
   "pygments_lexer": "ipython3",
   "version": "3.6.5"
  }
 },
 "nbformat": 4,
 "nbformat_minor": 2
}
