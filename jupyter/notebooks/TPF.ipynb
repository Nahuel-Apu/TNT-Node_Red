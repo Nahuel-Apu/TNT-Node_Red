{
 "cells": [
  {
   "cell_type": "markdown",
   "metadata": {},
   "source": [
    "# Trabajo Final Taller de Nuevas Tecnologías"
   ]
  },
  {
   "cell_type": "markdown",
   "metadata": {},
   "source": [
    "Importo las librerias para utilizar los *Widgets* y *MQTT*."
   ]
  },
  {
   "cell_type": "code",
   "execution_count": 37,
   "metadata": {},
   "outputs": [],
   "source": [
    "import paho.mqtt.client as mqtt\n",
    "import ipywidgets as widgets\n",
    "from traitlets import Unicode, Int, validate\n",
    "from IPython.display import HTML\n",
    "from ipywidgets import interact, interactive, fixed, interact_manual"
   ]
  },
  {
   "cell_type": "markdown",
   "metadata": {},
   "source": [
    "### Creo el *Widgets* para reepresentar números binarios, la clase de este se llama **Bynary Widgets**."
   ]
  },
  {
   "cell_type": "code",
   "execution_count": 38,
   "metadata": {},
   "outputs": [],
   "source": [
    "class BinaryWidget(widgets.DOMWidget):\n",
    "    _view_name = Unicode('BinaryView').tag(sync=True)\n",
    "    _view_module = Unicode('binary').tag(sync=True)\n",
    "    value = Int(0).tag(sync=True)"
   ]
  },
  {
   "cell_type": "code",
   "execution_count": 39,
   "metadata": {},
   "outputs": [
    {
     "data": {
      "application/javascript": [
       "\n",
       "//Definicion de módulo 'binary'.\n",
       "require.undef('binary');\n",
       "\n",
       "//Módulo 'binary' en función del marco de widgets.\n",
       "define('binary', [\"@jupyter-widgets/base\"],\n",
       "       function(widgets) {\n",
       "\n",
       "    //Clase frontend Bibary View, derivada de DOMWidgetView.\n",
       "    var BinaryView = widgets.DOMWidgetView.extend({\n",
       "\n",
       "        // Método para crear el widget HTML.\n",
       "        render: function() {\n",
       "            //value_changed () se llama cuando el valor del modelo cambia en el lado del kernel.\n",
       "            this.value_changed();\n",
       "            this.model.on('change:value',\n",
       "                          this.value_changed, this);\n",
       "\n",
       "            var model = this.model;\n",
       "            var that = this;\n",
       "\n",
       "            // botones (+) (-).\n",
       "            this.bm = $('<button/>')\n",
       "            .text('-')\n",
       "            .click(()=> {\n",
       "                // Cuando se hace clic en el botón, el valor del modelo se actualiza.\n",
       "                let x = model.get('value');\n",
       "                model.set('value', x - 1);\n",
       "                that.touch();\n",
       "            });\n",
       "\n",
       "            this.bp = $('<button/>')\n",
       "            .text('+')\n",
       "            .click(()=> {\n",
       "                let x = model.get('value');\n",
       "                model.set('value', x + 1);\n",
       "                that.touch();\n",
       "            });\n",
       "            \n",
       "           // Este elemento muestra el valor actua.\n",
       "            this.span = $('<span />')\n",
       "            .text('0')\n",
       "            .css({marginLeft: '10px',\n",
       "                  marginRight: '10px'});\n",
       "\n",
       "            // this.el representa el elemento DOM del widget. \n",
       "            // Se agrega los botones menos y mas, y el elemento span.\n",
       "            $(this.el)\n",
       "            .append(this.bm)\n",
       "            .append(this.span)\n",
       "            .append(this.bp);\n",
       "        },      \n",
       "        \n",
       "        value_changed: function(){\n",
       "            // Actualiza el número mostrado cuando cambie el valor del contador.\n",
       "            \n",
       "            function pad(input, length, padding) { \n",
       "              let str = input + \"\";\n",
       "              return (length <= str.length) ? str : pad(padding + str, length, padding);\n",
       "            }\n",
       "            \n",
       "            let x = this.model.get('value');\n",
       "            let b = this.model.get('value');\n",
       "        \n",
       "            b = x.toString(2);\n",
       "            let bin = pad(b,16,\"0\");\n",
       "           \n",
       "            $($(this.el).children()[1]).text(bin);\n",
       "        },\n",
       "    });\n",
       "\n",
       "    return {\n",
       "        BinaryView : BinaryView\n",
       "    };\n",
       "});\n"
      ],
      "text/plain": [
       "<IPython.core.display.Javascript object>"
      ]
     },
     "metadata": {},
     "output_type": "display_data"
    }
   ],
   "source": [
    "%%javascript\n",
    "\n",
    "//Definicion de módulo 'binary'.\n",
    "require.undef('binary');\n",
    "\n",
    "//Módulo 'binary' en función del marco de widgets.\n",
    "define('binary', [\"@jupyter-widgets/base\"],\n",
    "       function(widgets) {\n",
    "\n",
    "    //Clase frontend Bibary View, derivada de DOMWidgetView.\n",
    "    var BinaryView = widgets.DOMWidgetView.extend({\n",
    "\n",
    "        // Método para crear el widget HTML.\n",
    "        render: function() {\n",
    "            //value_changed () se llama cuando el valor del modelo cambia en el lado del kernel.\n",
    "            this.value_changed();\n",
    "            this.model.on('change:value',\n",
    "                          this.value_changed, this);\n",
    "\n",
    "            var model = this.model;\n",
    "            var that = this;\n",
    "\n",
    "            // botones (+) (-).\n",
    "            this.bm = $('<button/>')\n",
    "            .text('-')\n",
    "            .click(()=> {\n",
    "                // Cuando se hace clic en el botón, el valor del modelo se actualiza.\n",
    "                let x = model.get('value');\n",
    "                model.set('value', x - 1);\n",
    "                that.touch();\n",
    "            });\n",
    "\n",
    "            this.bp = $('<button/>')\n",
    "            .text('+')\n",
    "            .click(()=> {\n",
    "                let x = model.get('value');\n",
    "                model.set('value', x + 1);\n",
    "                that.touch();\n",
    "            });\n",
    "            \n",
    "           // Este elemento muestra el valor actua.\n",
    "            this.span = $('<span />')\n",
    "            .text('0')\n",
    "            .css({marginLeft: '10px',\n",
    "                  marginRight: '10px'});\n",
    "\n",
    "            // this.el representa el elemento DOM del widget. \n",
    "            // Se agrega los botones menos y mas, y el elemento span.\n",
    "            $(this.el)\n",
    "            .append(this.bm)\n",
    "            .append(this.span)\n",
    "            .append(this.bp);\n",
    "        },      \n",
    "        \n",
    "        value_changed: function(){\n",
    "            // Actualiza el número mostrado cuando cambie el valor del contador.\n",
    "            \n",
    "            function pad(input, length, padding) { \n",
    "              let str = input + \"\";\n",
    "              return (length <= str.length) ? str : pad(padding + str, length, padding);\n",
    "            }\n",
    "            \n",
    "            let x = this.model.get('value');\n",
    "            let b = this.model.get('value');\n",
    "        \n",
    "            b = x.toString(2);\n",
    "            let bin = pad(b,16,\"0\");\n",
    "           \n",
    "            $($(this.el).children()[1]).text(bin);\n",
    "        },\n",
    "    });\n",
    "\n",
    "    return {\n",
    "        BinaryView : BinaryView\n",
    "    };\n",
    "});"
   ]
  },
  {
   "cell_type": "code",
   "execution_count": 40,
   "metadata": {},
   "outputs": [
    {
     "data": {
      "application/vnd.jupyter.widget-view+json": {
       "model_id": "4ff11f8bf78f49309c63e9c40983f6a6",
       "version_major": 2,
       "version_minor": 0
      },
      "text/plain": [
       "BinaryWidget()"
      ]
     },
     "metadata": {},
     "output_type": "display_data"
    }
   ],
   "source": [
    "w = BinaryWidget()\n",
    "w"
   ]
  },
  {
   "cell_type": "markdown",
   "metadata": {},
   "source": [
    "### Creo el *Widgets* para reepresentar números hexadecimales, la clase de este se llama **Hexa Widget**."
   ]
  },
  {
   "cell_type": "code",
   "execution_count": 41,
   "metadata": {},
   "outputs": [],
   "source": [
    "class HexaWidget(widgets.DOMWidget):\n",
    "    _view_name = Unicode('HexaView').tag(sync=True)\n",
    "    _view_module = Unicode('hexa').tag(sync=True)\n",
    "    value = Int(0).tag(sync=True)"
   ]
  },
  {
   "cell_type": "code",
   "execution_count": 42,
   "metadata": {},
   "outputs": [
    {
     "data": {
      "application/javascript": [
       "\n",
       "//Definicion de módulo 'hexa'.\n",
       "require.undef('hexa');\n",
       "\n",
       "//Módulo 'hexa' en función del marco de widgets.\n",
       "define('hexa', [\"@jupyter-widgets/base\"],\n",
       "       function(widgets) {\n",
       "\n",
       "    //Clase frontend Hexa View, derivada de DOMWidgetView.\n",
       "    var HexaView = widgets.DOMWidgetView.extend({\n",
       "\n",
       "        // Método para crear el widget HTML.\n",
       "        render: function() {\n",
       "            //value_changed () se llama cuando el valor del modelo cambia en el lado del kernel.\n",
       "            this.value_changed();\n",
       "            this.model.on('change:value',\n",
       "                          this.value_changed, this);\n",
       "\n",
       "            var model = this.model;\n",
       "            var that = this;\n",
       "\n",
       "            // botones (+) (-).\n",
       "            this.bm = $('<button/>')\n",
       "            .text('-')\n",
       "            .click(()=> {\n",
       "                // Cuando se hace clic en el botón, el valor del modelo se actualiza.\n",
       "                let x = model.get('value');\n",
       "                model.set('value', x - 1);\n",
       "                that.touch();\n",
       "            });\n",
       "\n",
       "            this.bp = $('<button/>')\n",
       "            .text('+')\n",
       "            .click(()=> {\n",
       "                let x = model.get('value');\n",
       "                model.set('value', x + 1);\n",
       "                that.touch();\n",
       "            });\n",
       "            \n",
       "           // Este elemento muestra el valor actua.\n",
       "            this.span = $('<span />')\n",
       "            .text('0')\n",
       "            .css({marginLeft: '10px',\n",
       "                  marginRight: '10px'});\n",
       "\n",
       "            // this.el representa el elemento DOM del widget. \n",
       "            // Se agrega los botones menos y mas, y el elemento span.\n",
       "            $(this.el)\n",
       "            .append(this.bm)\n",
       "            .append(this.span)\n",
       "            .append(this.bp);\n",
       "        },\n",
       "\n",
       "        value_changed:function() {\n",
       "            \n",
       "            // Actualiza el número mostrado cuando cambie el valor del contador.\n",
       "            function pad(input, length, padding) { \n",
       "              let str = input + \"\";\n",
       "              return (length <= str.length) ? str : pad(padding + str, length, padding);\n",
       "            }\n",
       "            \n",
       "            let x = this.model.get('value');\n",
       "            let h = this.model.get('value');\n",
       "        \n",
       "            h = x.toString(16);\n",
       "            let hexa = pad(h,4,\"0\");\n",
       "           \n",
       "            $($(this.el).children()[1]).text(hexa);\n",
       "        },\n",
       "    });\n",
       "\n",
       "    return {\n",
       "        HexaView : HexaView\n",
       "    };\n",
       "});\n"
      ],
      "text/plain": [
       "<IPython.core.display.Javascript object>"
      ]
     },
     "metadata": {},
     "output_type": "display_data"
    }
   ],
   "source": [
    "%%javascript\n",
    "\n",
    "//Definicion de módulo 'hexa'.\n",
    "require.undef('hexa');\n",
    "\n",
    "//Módulo 'hexa' en función del marco de widgets.\n",
    "define('hexa', [\"@jupyter-widgets/base\"],\n",
    "       function(widgets) {\n",
    "\n",
    "    //Clase frontend Hexa View, derivada de DOMWidgetView.\n",
    "    var HexaView = widgets.DOMWidgetView.extend({\n",
    "\n",
    "        // Método para crear el widget HTML.\n",
    "        render: function() {\n",
    "            //value_changed () se llama cuando el valor del modelo cambia en el lado del kernel.\n",
    "            this.value_changed();\n",
    "            this.model.on('change:value',\n",
    "                          this.value_changed, this);\n",
    "\n",
    "            var model = this.model;\n",
    "            var that = this;\n",
    "\n",
    "            // botones (+) (-).\n",
    "            this.bm = $('<button/>')\n",
    "            .text('-')\n",
    "            .click(()=> {\n",
    "                // Cuando se hace clic en el botón, el valor del modelo se actualiza.\n",
    "                let x = model.get('value');\n",
    "                model.set('value', x - 1);\n",
    "                that.touch();\n",
    "            });\n",
    "\n",
    "            this.bp = $('<button/>')\n",
    "            .text('+')\n",
    "            .click(()=> {\n",
    "                let x = model.get('value');\n",
    "                model.set('value', x + 1);\n",
    "                that.touch();\n",
    "            });\n",
    "            \n",
    "           // Este elemento muestra el valor actua.\n",
    "            this.span = $('<span />')\n",
    "            .text('0')\n",
    "            .css({marginLeft: '10px',\n",
    "                  marginRight: '10px'});\n",
    "\n",
    "            // this.el representa el elemento DOM del widget. \n",
    "            // Se agrega los botones menos y mas, y el elemento span.\n",
    "            $(this.el)\n",
    "            .append(this.bm)\n",
    "            .append(this.span)\n",
    "            .append(this.bp);\n",
    "        },\n",
    "\n",
    "        value_changed:function() {\n",
    "            \n",
    "            // Actualiza el número mostrado cuando cambie el valor del contador.\n",
    "            function pad(input, length, padding) { \n",
    "              let str = input + \"\";\n",
    "              return (length <= str.length) ? str : pad(padding + str, length, padding);\n",
    "            }\n",
    "            \n",
    "            let x = this.model.get('value');\n",
    "            let h = this.model.get('value');\n",
    "        \n",
    "            h = x.toString(16);\n",
    "            let hexa = pad(h,4,\"0\");\n",
    "           \n",
    "            $($(this.el).children()[1]).text(hexa);\n",
    "        },\n",
    "    });\n",
    "\n",
    "    return {\n",
    "        HexaView : HexaView\n",
    "    };\n",
    "});"
   ]
  },
  {
   "cell_type": "code",
   "execution_count": 43,
   "metadata": {},
   "outputs": [
    {
     "data": {
      "application/vnd.jupyter.widget-view+json": {
       "model_id": "afa49e42c19e45969485b2fb73d7810e",
       "version_major": 2,
       "version_minor": 0
      },
      "text/plain": [
       "HexaWidget()"
      ]
     },
     "metadata": {},
     "output_type": "display_data"
    }
   ],
   "source": [
    "wh = HexaWidget()\n",
    "wh"
   ]
  },
  {
   "cell_type": "code",
   "execution_count": 45,
   "metadata": {},
   "outputs": [],
   "source": [
    "import traitlets"
   ]
  },
  {
   "cell_type": "markdown",
   "metadata": {},
   "source": [
    "Genero la sincronización de los Widgets previos, a fin de mostrar los valores equivalentes. Es se realiza mediante la sentecia *link*."
   ]
  },
  {
   "cell_type": "code",
   "execution_count": 46,
   "metadata": {},
   "outputs": [
    {
     "data": {
      "application/vnd.jupyter.widget-view+json": {
       "model_id": "58addeed3213494e823aba041946ce47",
       "version_major": 2,
       "version_minor": 0
      },
      "text/plain": [
       "Label(value='Los valores binario y hexadecimal estan sincronizados')"
      ]
     },
     "metadata": {},
     "output_type": "display_data"
    },
    {
     "data": {
      "application/vnd.jupyter.widget-view+json": {
       "model_id": "c4cdf39b1ddd4b8bafe74c528deef303",
       "version_major": 2,
       "version_minor": 0
      },
      "text/plain": [
       "HexaWidget()"
      ]
     },
     "metadata": {},
     "output_type": "display_data"
    },
    {
     "data": {
      "application/vnd.jupyter.widget-view+json": {
       "model_id": "3888e3dc0e994dac8d098b1703eeeae8",
       "version_major": 2,
       "version_minor": 0
      },
      "text/plain": [
       "BinaryWidget()"
      ]
     },
     "metadata": {},
     "output_type": "display_data"
    }
   ],
   "source": [
    "mesagge = widgets.Label(value = 'Los valores binario y hexadecimal estan sincronizados')\n",
    "whexa = HexaWidget()\n",
    "wbinary = BinaryWidget()\n",
    "l = traitlets.link((whexa, 'value'), (wbinary, 'value'))\n",
    "display(mesagge, whexa, wbinary)"
   ]
  },
  {
   "cell_type": "markdown",
   "metadata": {},
   "source": [
    "### A continuación, realizo el cambio de un determinado Bit"
   ]
  },
  {
   "cell_type": "code",
   "execution_count": 47,
   "metadata": {},
   "outputs": [],
   "source": [
    "#Función que toma el valor del Widgets y lo introduce en un HTML para pasar a la funcion de Cambio de Bits.\n",
    "def f(x):\n",
    "    aux = str(x)\n",
    "    display(HTML(\"<div id='bitChange'>\" + aux + \"</div>\"))\n",
    "    return x"
   ]
  },
  {
   "cell_type": "markdown",
   "metadata": {},
   "source": [
    "Slider utilizado para selecionar Bit a cambiar."
   ]
  },
  {
   "cell_type": "code",
   "execution_count": 48,
   "metadata": {},
   "outputs": [
    {
     "data": {
      "application/vnd.jupyter.widget-view+json": {
       "model_id": "d58dab591c224fe6a591f2edf6d332f9",
       "version_major": 2,
       "version_minor": 0
      },
      "text/plain": [
       "interactive(children=(IntSlider(value=0, description='x', max=15), Output()), _dom_classes=('widget-interact',…"
      ]
     },
     "metadata": {},
     "output_type": "display_data"
    }
   ],
   "source": [
    "interact(f, x=widgets.IntSlider(min=0,max=15,step=1));"
   ]
  },
  {
   "cell_type": "code",
   "execution_count": 49,
   "metadata": {},
   "outputs": [
    {
     "data": {
      "text/html": [
       "<div id='binaryNum'>1010101010101010</div>"
      ],
      "text/plain": [
       "<IPython.core.display.HTML object>"
      ]
     },
     "execution_count": 49,
     "metadata": {},
     "output_type": "execute_result"
    }
   ],
   "source": [
    "# Representación binaria\n",
    "mypynumber = str('1010101010101010')\n",
    "\n",
    "#Introduzco el número en el DOM llamando al widget HTML con un div\n",
    "HTML(\"<div id='binaryNum'>\" + mypynumber + \"</div>\")"
   ]
  },
  {
   "cell_type": "code",
   "execution_count": 50,
   "metadata": {},
   "outputs": [
    {
     "data": {
      "application/javascript": [
       "\n",
       "// Obtengo la representación binaria y el numero de bit a cambiar\n",
       "var myjsnumber = '1010101010101010';\n",
       "var numberchange = Number(document.getElementById('bitChange').innerHTML);\n",
       "\n",
       "function changeBit (bits, bit) {\n",
       "    //const result = await bits;\n",
       "    let result = bits;\n",
       "    //const paso = await result.split(\"\");\n",
       "    let paso = result.split(\"\");\n",
       "    //Debo hacer comprobación para setear a 0 o 1\n",
       "    if(paso [bit] == '0')\n",
       "    paso [bit] = '1'\n",
       "    else\n",
       "        paso [bit] = '0'\n",
       "    return result = paso.join(\"\");\n",
       "}\n",
       "\n",
       "var change= changeBit(myjsnumber, numberchange);\n",
       "\n",
       "// Ejecuta sentencias de python para retornar variables.\n",
       "IPython.notebook.kernel.execute('myjsnumber=\"' + myjsnumber + '\";');\n",
       "IPython.notebook.kernel.execute('mypynumber=\"' + change + '\";');\n",
       "IPython.notebook.kernel.execute('numberchange=\"' + numberchange + '\";');\n"
      ],
      "text/plain": [
       "<IPython.core.display.Javascript object>"
      ]
     },
     "metadata": {},
     "output_type": "display_data"
    }
   ],
   "source": [
    "%%javascript\n",
    "\n",
    "// Obtengo la representación binaria y el numero de bit a cambiar\n",
    "var myjsnumber = '1010101010101010';\n",
    "var numberchange = Number(document.getElementById('bitChange').innerHTML);\n",
    "\n",
    "function changeBit (bits, bit) {\n",
    "    //const result = await bits;\n",
    "    let result = bits;\n",
    "    //const paso = await result.split(\"\");\n",
    "    let paso = result.split(\"\");\n",
    "    //Debo hacer comprobación para setear a 0 o 1\n",
    "    if(paso [bit] == '0')\n",
    "    paso [bit] = '1'\n",
    "    else\n",
    "        paso [bit] = '0'\n",
    "    return result = paso.join(\"\");\n",
    "}\n",
    "\n",
    "var change= changeBit(myjsnumber, numberchange);\n",
    "\n",
    "// Ejecuta sentencias de python para retornar variables.\n",
    "IPython.notebook.kernel.execute('myjsnumber=\"' + myjsnumber + '\";');\n",
    "IPython.notebook.kernel.execute('mypynumber=\"' + change + '\";');\n",
    "IPython.notebook.kernel.execute('numberchange=\"' + numberchange + '\";');"
   ]
  },
  {
   "cell_type": "code",
   "execution_count": 51,
   "metadata": {},
   "outputs": [
    {
     "name": "stdout",
     "output_type": "stream",
     "text": [
      "1010101010101010\n",
      "1010101010001010\n",
      "10\n"
     ]
    }
   ],
   "source": [
    "\n",
    "print(myjsnumber)\n",
    "print(mypynumber)\n",
    "print(numberchange)"
   ]
  },
  {
   "cell_type": "markdown",
   "metadata": {},
   "source": [
    "### Los siguientes, son simples Widgets para realizar impresiones y simular datos."
   ]
  },
  {
   "cell_type": "code",
   "execution_count": 52,
   "metadata": {},
   "outputs": [],
   "source": [
    "olla = widgets.IntSlider(\n",
    "    value=20,\n",
    "    min=0,\n",
    "    max=100,\n",
    "    step=10,\n",
    "    description='Olla de Hervor:',\n",
    "    disabled=False,\n",
    "    continuous_update=False,\n",
    "    orientation='horizontal',\n",
    "    readout=True,\n",
    "    readout_format='d'\n",
    ")"
   ]
  },
  {
   "cell_type": "code",
   "execution_count": 53,
   "metadata": {},
   "outputs": [
    {
     "data": {
      "application/vnd.jupyter.widget-view+json": {
       "model_id": "41bf9417e47043eaa0fcbf6598e29e79",
       "version_major": 2,
       "version_minor": 0
      },
      "text/plain": [
       "IntSlider(value=20, continuous_update=False, description='Olla de Hervor:', step=10)"
      ]
     },
     "metadata": {},
     "output_type": "display_data"
    }
   ],
   "source": [
    "olla"
   ]
  },
  {
   "cell_type": "code",
   "execution_count": 54,
   "metadata": {},
   "outputs": [],
   "source": [
    "tbco2 = widgets.IntRangeSlider(\n",
    "    value=[5, 10],\n",
    "    min=0,\n",
    "    max=50,\n",
    "    step=5,\n",
    "    description='Tubo de Presion co2:',\n",
    "    disabled=False,\n",
    "    continuous_update=False,\n",
    "    orientation='horizontal',\n",
    "    readout=True,\n",
    "    readout_format='d',\n",
    ")"
   ]
  },
  {
   "cell_type": "code",
   "execution_count": 55,
   "metadata": {},
   "outputs": [
    {
     "data": {
      "application/vnd.jupyter.widget-view+json": {
       "model_id": "6e9c248a3aa54c6f837337b49e82edad",
       "version_major": 2,
       "version_minor": 0
      },
      "text/plain": [
       "IntRangeSlider(value=(5, 10), continuous_update=False, description='Tubo de Presion co2:', max=50, step=5)"
      ]
     },
     "metadata": {},
     "output_type": "display_data"
    }
   ],
   "source": [
    "tbco2"
   ]
  },
  {
   "cell_type": "code",
   "execution_count": 56,
   "metadata": {},
   "outputs": [],
   "source": [
    "clarEnf= widgets.Checkbox(\n",
    "    value=False,\n",
    "    description='Check me',\n",
    "    disabled=False\n",
    ")"
   ]
  },
  {
   "cell_type": "code",
   "execution_count": 57,
   "metadata": {},
   "outputs": [
    {
     "data": {
      "application/vnd.jupyter.widget-view+json": {
       "model_id": "13588d8bf9b14f51bdb2f59e3e99e0e1",
       "version_major": 2,
       "version_minor": 0
      },
      "text/plain": [
       "Checkbox(value=False, description='Check me')"
      ]
     },
     "metadata": {},
     "output_type": "display_data"
    }
   ],
   "source": [
    "clarEnf"
   ]
  },
  {
   "cell_type": "markdown",
   "metadata": {},
   "source": [
    "### Realizo envio de mensajes Mediante MQTT"
   ]
  },
  {
   "cell_type": "markdown",
   "metadata": {},
   "source": [
    "Selección de que valor se va a enviar por mensaje."
   ]
  },
  {
   "cell_type": "code",
   "execution_count": 62,
   "metadata": {},
   "outputs": [
    {
     "name": "stdout",
     "output_type": "stream",
     "text": [
      "Ingrese el caracter \"a\" para enviar Datos de Olla de Herbor\n",
      "Ingrese el caracter \"b\" para enviar Datos de Olla de presión de co2\n",
      "Ingrese el caracter \"a\" o \"b\"a\n",
      "El valor de salida de mensaje es de :  90\n"
     ]
    }
   ],
   "source": [
    "b ={\n",
    "    'a' : olla.value,\n",
    "    'b' : tbco2.value\n",
    "}\n",
    "\n",
    "# take user input\n",
    "print('Ingrese el caracter \"a\" para enviar Datos de Olla de Herbor')\n",
    "print('Ingrese el caracter \"b\" para enviar Datos de Olla de presión de co2')\n",
    "inp = input('Ingrese el caracter \"a\" o \"b\"')\n",
    "\n",
    "msj = str(b.get(inp, -1))\n",
    "\n",
    "# -1 is the default value if there is no keys that matches the input\n",
    "print('El valor de salida de mensaje es de : ', b.get(inp, -1))"
   ]
  },
  {
   "cell_type": "code",
   "execution_count": 63,
   "metadata": {},
   "outputs": [
    {
     "name": "stdout",
     "output_type": "stream",
     "text": [
      "Connected OK\n",
      "DisConected result code 0\n"
     ]
    },
    {
     "data": {
      "text/plain": [
       "0"
      ]
     },
     "execution_count": 63,
     "metadata": {},
     "output_type": "execute_result"
    }
   ],
   "source": [
    "import paho.mqtt.client as mqtt\n",
    "import time\n",
    "\n",
    "#def on_log(client, userdata, level, buf):\n",
    "    #print(\"log: \"+buf)\n",
    "\n",
    "def on_connect(client, userdata, flags, rc):\n",
    "    if rc==0:\n",
    "        print(\"Connected OK\")\n",
    "    else:\n",
    "        print(\"Bad connection Returned code=\", rc)\n",
    "\n",
    "def on_disconnect(client, userdata, flags, rc=0):\n",
    "    print(\"DisConected result code \"+ str(rc))\n",
    "    \n",
    "# set up the mqtt client\n",
    "#mqttc = mqtt.Client(\"python_pub\")\n",
    "mqttc = mqtt.Client(\"python_pub\", True, None, mqtt.MQTTv31)\n",
    "\n",
    "mqttc.on_connect = on_connect\n",
    "mqttc.on_disconnect = on_disconnect\n",
    "#mqttc.on_log = on_log\n",
    "\n",
    "\n",
    "# the server to publish to, and corresponding port\n",
    "#mqttc.connect(\"test.mosquitto.org\", 1883, 60)\n",
    "mqttc.connect('172.19.0.1 ', 1883)\n",
    "mqttc.loop_start()\n",
    "\n",
    "# the topic to publish to, and the message to publish\n",
    "#mqttc.publish(\"/tnt/tpf/\", msj)\n",
    "mqttc.publish(\"/sensor/1/\", msj)\n",
    "\n",
    "# establish a four-second timeout\n",
    "time.sleep(4) # wait\n",
    "mqttc.loop_stop() #stop the loop\n",
    "mqttc.disconnect()"
   ]
  },
  {
   "cell_type": "code",
   "execution_count": 30,
   "metadata": {},
   "outputs": [
    {
     "name": "stdout",
     "output_type": "stream",
     "text": [
      "False\n"
     ]
    }
   ],
   "source": [
    "print(clarEnf.value)"
   ]
  },
  {
   "cell_type": "code",
   "execution_count": 65,
   "metadata": {},
   "outputs": [
    {
     "name": "stdout",
     "output_type": "stream",
     "text": [
      "Connected OK\n",
      "DisConected result code 0\n"
     ]
    },
    {
     "data": {
      "text/plain": [
       "0"
      ]
     },
     "execution_count": 65,
     "metadata": {},
     "output_type": "execute_result"
    }
   ],
   "source": [
    "import paho.mqtt.client as mqtt\n",
    "import time\n",
    "\n",
    "#def on_log(client, userdata, level, buf):\n",
    "    #print(\"log: \"+buf)\n",
    "\n",
    "def on_connect(client, userdata, flags, rc):\n",
    "    if rc==0:\n",
    "        print(\"Connected OK\")\n",
    "    else:\n",
    "        print(\"Bad connection Returned code=\", rc)\n",
    "\n",
    "def on_disconnect(client, userdata, flags, rc=0):\n",
    "    print(\"DisConected result code \"+ str(rc))\n",
    "    \n",
    "# set up the mqtt client\n",
    "#mqttc = mqtt.Client(\"python_pub\")\n",
    "mqttc = mqtt.Client(\"python_pub\", True, None, mqtt.MQTTv31)\n",
    "\n",
    "mqttc.on_connect = on_connect\n",
    "mqttc.on_disconnect = on_disconnect\n",
    "#mqttc.on_log = on_log\n",
    "\n",
    "\n",
    "# the server to publish to, and corresponding port\n",
    "#mqttc.connect(\"test.mosquitto.org\", 1883, 60)\n",
    "mqttc.connect('172.19.0.1 ', 1883)\n",
    "mqttc.loop_start()\n",
    "\n",
    "# the topic to publish to, and the message to publish\n",
    "#mqttc.publish(\"/tnt/tpf/\", msj)\n",
    "mqttc.publish(\"/sensor/2/\", clarEnf.value)\n",
    "\n",
    "# establish a four-second timeout\n",
    "time.sleep(4) # wait\n",
    "mqttc.loop_stop() #stop the loop\n",
    "mqttc.disconnect()"
   ]
  },
  {
   "cell_type": "code",
   "execution_count": null,
   "metadata": {},
   "outputs": [],
   "source": []
  }
 ],
 "metadata": {
  "kernelspec": {
   "display_name": "Python 3",
   "language": "python",
   "name": "python3"
  },
  "language_info": {
   "codemirror_mode": {
    "name": "ipython",
    "version": 3
   },
   "file_extension": ".py",
   "mimetype": "text/x-python",
   "name": "python",
   "nbconvert_exporter": "python",
   "pygments_lexer": "ipython3",
   "version": "3.7.2"
  }
 },
 "nbformat": 4,
 "nbformat_minor": 2
}
