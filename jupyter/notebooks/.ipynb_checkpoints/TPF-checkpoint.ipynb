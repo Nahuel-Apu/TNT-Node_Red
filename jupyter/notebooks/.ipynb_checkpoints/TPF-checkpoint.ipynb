{
 "cells": [
  {
   "cell_type": "markdown",
   "metadata": {},
   "source": [
    "# Trabajo Final Taller de Nuevas Tecnologías"
   ]
  },
  {
   "cell_type": "markdown",
   "metadata": {},
   "source": [
    "Importo las librerias para utilizar los *Widgets* y *MQTT*."
   ]
  },
  {
   "cell_type": "code",
   "execution_count": 13,
   "metadata": {},
   "outputs": [],
   "source": [
    "import paho.mqtt.client as mqtt\n",
    "import ipywidgets as widgets\n",
    "from traitlets import Unicode, Int, validate\n",
    "from IPython.display import HTML\n",
    "from ipywidgets import interact, interactive, fixed, interact_manual"
   ]
  },
  {
   "cell_type": "markdown",
   "metadata": {},
   "source": [
    "### Creo el *Widgets* para reepresentar números binarios, la clase de este se llama **Bynary Widgets**."
   ]
  },
  {
   "cell_type": "code",
   "execution_count": 14,
   "metadata": {},
   "outputs": [],
   "source": [
    "class BinaryWidget(widgets.DOMWidget):\n",
    "    _view_name = Unicode('BinaryView').tag(sync=True)\n",
    "    _view_module = Unicode('binary').tag(sync=True)\n",
    "    value = Int(0).tag(sync=True)"
   ]
  },
  {
   "cell_type": "code",
   "execution_count": 32,
   "metadata": {},
   "outputs": [
    {
     "data": {
      "application/javascript": [
       "\n",
       "//Definicion de módulo 'binary'.\n",
       "require.undef('binary');\n",
       "\n",
       "//Módulo 'binary' en función del marco de widgets.\n",
       "define('binary', [\"@jupyter-widgets/base\"],\n",
       "       function(widgets) {\n",
       "\n",
       "    //Clase frontend Bibary View, derivada de DOMWidgetView.\n",
       "    var BinaryView = widgets.DOMWidgetView.extend({\n",
       "\n",
       "        // Método para crear el widget HTML.\n",
       "        render: function() {\n",
       "            //value_changed () se llama cuando el valor del modelo cambia en el lado del kernel.\n",
       "            this.value_changed();\n",
       "            this.model.on('change:value',\n",
       "                          this.value_changed, this);\n",
       "\n",
       "            var model = this.model;\n",
       "            var that = this;\n",
       "\n",
       "            // botones (+) (-).\n",
       "            this.bm = $('<button/>')\n",
       "            .text('-')\n",
       "            .click(()=> {\n",
       "                // Cuando se hace clic en el botón, el valor del modelo se actualiza.\n",
       "                let x = model.get('value');\n",
       "                model.set('value', x - 1);\n",
       "                that.touch();\n",
       "            });\n",
       "\n",
       "            this.bp = $('<button/>')\n",
       "            .text('+')\n",
       "            .click(()=> {\n",
       "                let x = model.get('value');\n",
       "                model.set('value', x + 1);\n",
       "                that.touch();\n",
       "            });\n",
       "            \n",
       "           // Este elemento muestra el valor actua.\n",
       "            this.span = $('<span />')\n",
       "            .text('0')\n",
       "            .css({marginLeft: '10px',\n",
       "                  marginRight: '10px'});\n",
       "\n",
       "            // this.el representa el elemento DOM del widget. \n",
       "            // Se agrega los botones menos y mas, y el elemento span.\n",
       "            $(this.el)\n",
       "            .append(this.bm)\n",
       "            .append(this.span)\n",
       "            .append(this.bp);\n",
       "        },      \n",
       "        \n",
       "        value_changed: function(){\n",
       "            // Actualiza el número mostrado cuando cambie el valor del contador.\n",
       "            \n",
       "            function pad(input, length, padding) { \n",
       "              let str = input + \"\";\n",
       "              return (length <= str.length) ? str : pad(padding + str, length, padding);\n",
       "            }\n",
       "            \n",
       "            let x = this.model.get('value');\n",
       "            let b = this.model.get('value');\n",
       "        \n",
       "            b = x.toString(2);\n",
       "            let bin = pad(b,16,\"0\");\n",
       "           \n",
       "            $($(this.el).children()[1]).text(bin);\n",
       "        },\n",
       "    });\n",
       "\n",
       "    return {\n",
       "        BinaryView : BinaryView\n",
       "    };\n",
       "});\n"
      ],
      "text/plain": [
       "<IPython.core.display.Javascript object>"
      ]
     },
     "metadata": {},
     "output_type": "display_data"
    }
   ],
   "source": [
    "%%javascript\n",
    "\n",
    "//Definicion de módulo 'binary'.\n",
    "require.undef('binary');\n",
    "\n",
    "//Módulo 'binary' en función del marco de widgets.\n",
    "define('binary', [\"@jupyter-widgets/base\"],\n",
    "       function(widgets) {\n",
    "\n",
    "    //Clase frontend Bibary View, derivada de DOMWidgetView.\n",
    "    var BinaryView = widgets.DOMWidgetView.extend({\n",
    "\n",
    "        // Método para crear el widget HTML.\n",
    "        render: function() {\n",
    "            //value_changed () se llama cuando el valor del modelo cambia en el lado del kernel.\n",
    "            this.value_changed();\n",
    "            this.model.on('change:value',\n",
    "                          this.value_changed, this);\n",
    "\n",
    "            var model = this.model;\n",
    "            var that = this;\n",
    "\n",
    "            // botones (+) (-).\n",
    "            this.bm = $('<button/>')\n",
    "            .text('-')\n",
    "            .click(()=> {\n",
    "                // Cuando se hace clic en el botón, el valor del modelo se actualiza.\n",
    "                let x = model.get('value');\n",
    "                model.set('value', x - 1);\n",
    "                that.touch();\n",
    "            });\n",
    "\n",
    "            this.bp = $('<button/>')\n",
    "            .text('+')\n",
    "            .click(()=> {\n",
    "                let x = model.get('value');\n",
    "                model.set('value', x + 1);\n",
    "                that.touch();\n",
    "            });\n",
    "            \n",
    "           // Este elemento muestra el valor actua.\n",
    "            this.span = $('<span />')\n",
    "            .text('0')\n",
    "            .css({marginLeft: '10px',\n",
    "                  marginRight: '10px'});\n",
    "\n",
    "            // this.el representa el elemento DOM del widget. \n",
    "            // Se agrega los botones menos y mas, y el elemento span.\n",
    "            $(this.el)\n",
    "            .append(this.bm)\n",
    "            .append(this.span)\n",
    "            .append(this.bp);\n",
    "        },      \n",
    "        \n",
    "        value_changed: function(){\n",
    "            // Actualiza el número mostrado cuando cambie el valor del contador.\n",
    "            \n",
    "            function pad(input, length, padding) { \n",
    "              let str = input + \"\";\n",
    "              return (length <= str.length) ? str : pad(padding + str, length, padding);\n",
    "            }\n",
    "            \n",
    "            let x = this.model.get('value');\n",
    "            let b = this.model.get('value');\n",
    "        \n",
    "            b = x.toString(2);\n",
    "            let bin = pad(b,16,\"0\");\n",
    "           \n",
    "            $($(this.el).children()[1]).text(bin);\n",
    "        },\n",
    "    });\n",
    "\n",
    "    return {\n",
    "        BinaryView : BinaryView\n",
    "    };\n",
    "});"
   ]
  },
  {
   "cell_type": "code",
   "execution_count": 33,
   "metadata": {},
   "outputs": [
    {
     "data": {
      "application/vnd.jupyter.widget-view+json": {
       "model_id": "921db0d532694f9097e3ea32856a7e44",
       "version_major": 2,
       "version_minor": 0
      },
      "text/plain": [
       "BinaryWidget()"
      ]
     },
     "metadata": {},
     "output_type": "display_data"
    }
   ],
   "source": [
    "w = BinaryWidget()\n",
    "w"
   ]
  },
  {
   "cell_type": "markdown",
   "metadata": {},
   "source": [
    "### Creo el *Widgets* para reepresentar números hexadecimales, la clase de este se llama **Hexa Widget**."
   ]
  },
  {
   "cell_type": "code",
   "execution_count": 9,
   "metadata": {},
   "outputs": [],
   "source": [
    "class HexaWidget(widgets.DOMWidget):\n",
    "    _view_name = Unicode('HexaView').tag(sync=True)\n",
    "    _view_module = Unicode('hexa').tag(sync=True)\n",
    "    value = Int(0).tag(sync=True)"
   ]
  },
  {
   "cell_type": "code",
   "execution_count": 28,
   "metadata": {},
   "outputs": [
    {
     "data": {
      "application/javascript": [
       "\n",
       "//Definicion de módulo 'hexa'.\n",
       "require.undef('hexa');\n",
       "\n",
       "//Módulo 'hexa' en función del marco de widgets.\n",
       "define('hexa', [\"@jupyter-widgets/base\"],\n",
       "       function(widgets) {\n",
       "\n",
       "    //Clase frontend Hexa View, derivada de DOMWidgetView.\n",
       "    var HexaView = widgets.DOMWidgetView.extend({\n",
       "\n",
       "        // Método para crear el widget HTML.\n",
       "        render: function() {\n",
       "            //value_changed () se llama cuando el valor del modelo cambia en el lado del kernel.\n",
       "            this.value_changed();\n",
       "            this.model.on('change:value',\n",
       "                          this.value_changed, this);\n",
       "\n",
       "            var model = this.model;\n",
       "            var that = this;\n",
       "\n",
       "            // botones (+) (-).\n",
       "            this.bm = $('<button/>')\n",
       "            .text('-')\n",
       "            .click(()=> {\n",
       "                // Cuando se hace clic en el botón, el valor del modelo se actualiza.\n",
       "                var x = model.get('value');\n",
       "                model.set('value', x - 1);\n",
       "                that.touch();\n",
       "            });\n",
       "\n",
       "            this.bp = $('<button/>')\n",
       "            .text('+')\n",
       "            .click(()=> {\n",
       "                var x = model.get('value');\n",
       "                model.set('value', x + 1);\n",
       "                that.touch();\n",
       "            });\n",
       "            \n",
       "           // Este elemento muestra el valor actua.\n",
       "            this.span = $('<span />')\n",
       "            .text('0')\n",
       "            .css({marginLeft: '10px',\n",
       "                  marginRight: '10px'});\n",
       "\n",
       "            // this.el representa el elemento DOM del widget. \n",
       "            // Se agrega los botones menos y mas, y el elemento span.\n",
       "            $(this.el)\n",
       "            .append(this.bm)\n",
       "            .append(this.span)\n",
       "            .append(this.bp);\n",
       "        },\n",
       "\n",
       "        value_changed:function() {\n",
       "            \n",
       "            // Actualiza el número mostrado cuando cambie el valor del contador.\n",
       "            function pad(input, length, padding) { \n",
       "              var str = input + \"\";\n",
       "              return (length <= str.length) ? str : pad(padding + str, length, padding);\n",
       "            }\n",
       "            \n",
       "            var x = this.model.get('value');\n",
       "            var h = this.model.get('value');\n",
       "        \n",
       "            h = x.toString(16);\n",
       "            var hexa = pad(h,4,\"0\");\n",
       "           \n",
       "            $($(this.el).children()[1]).text(hexa);\n",
       "        },\n",
       "    });\n",
       "\n",
       "    return {\n",
       "        HexaView : HexaView\n",
       "    };\n",
       "});\n"
      ],
      "text/plain": [
       "<IPython.core.display.Javascript object>"
      ]
     },
     "metadata": {},
     "output_type": "display_data"
    }
   ],
   "source": [
    "%%javascript\n",
    "\n",
    "//Definicion de módulo 'hexa'.\n",
    "require.undef('hexa');\n",
    "\n",
    "//Módulo 'hexa' en función del marco de widgets.\n",
    "define('hexa', [\"@jupyter-widgets/base\"],\n",
    "       function(widgets) {\n",
    "\n",
    "    //Clase frontend Hexa View, derivada de DOMWidgetView.\n",
    "    var HexaView = widgets.DOMWidgetView.extend({\n",
    "\n",
    "        // Método para crear el widget HTML.\n",
    "        render: function() {\n",
    "            //value_changed () se llama cuando el valor del modelo cambia en el lado del kernel.\n",
    "            this.value_changed();\n",
    "            this.model.on('change:value',\n",
    "                          this.value_changed, this);\n",
    "\n",
    "            var model = this.model;\n",
    "            var that = this;\n",
    "\n",
    "            // botones (+) (-).\n",
    "            this.bm = $('<button/>')\n",
    "            .text('-')\n",
    "            .click(()=> {\n",
    "                // Cuando se hace clic en el botón, el valor del modelo se actualiza.\n",
    "                let x = model.get('value');\n",
    "                model.set('value', x - 1);\n",
    "                that.touch();\n",
    "            });\n",
    "\n",
    "            this.bp = $('<button/>')\n",
    "            .text('+')\n",
    "            .click(()=> {\n",
    "                let x = model.get('value');\n",
    "                model.set('value', x + 1);\n",
    "                that.touch();\n",
    "            });\n",
    "            \n",
    "           // Este elemento muestra el valor actua.\n",
    "            this.span = $('<span />')\n",
    "            .text('0')\n",
    "            .css({marginLeft: '10px',\n",
    "                  marginRight: '10px'});\n",
    "\n",
    "            // this.el representa el elemento DOM del widget. \n",
    "            // Se agrega los botones menos y mas, y el elemento span.\n",
    "            $(this.el)\n",
    "            .append(this.bm)\n",
    "            .append(this.span)\n",
    "            .append(this.bp);\n",
    "        },\n",
    "\n",
    "        value_changed:function() {\n",
    "            \n",
    "            // Actualiza el número mostrado cuando cambie el valor del contador.\n",
    "            function pad(input, length, padding) { \n",
    "              let str = input + \"\";\n",
    "              return (length <= str.length) ? str : pad(padding + str, length, padding);\n",
    "            }\n",
    "            \n",
    "            let x = this.model.get('value');\n",
    "            let h = this.model.get('value');\n",
    "        \n",
    "            h = x.toString(16);\n",
    "            let hexa = pad(h,4,\"0\");\n",
    "           \n",
    "            $($(this.el).children()[1]).text(hexa);\n",
    "        },\n",
    "    });\n",
    "\n",
    "    return {\n",
    "        HexaView : HexaView\n",
    "    };\n",
    "});"
   ]
  },
  {
   "cell_type": "code",
   "execution_count": 29,
   "metadata": {},
   "outputs": [
    {
     "data": {
      "application/vnd.jupyter.widget-view+json": {
       "model_id": "4d9a2c58e39a4a98bd0d6aa5dbf8f75f",
       "version_major": 2,
       "version_minor": 0
      },
      "text/plain": [
       "HexaWidget()"
      ]
     },
     "metadata": {},
     "output_type": "display_data"
    }
   ],
   "source": [
    "wh = HexaWidget()\n",
    "wh"
   ]
  },
  {
   "cell_type": "code",
   "execution_count": 8,
   "metadata": {},
   "outputs": [],
   "source": [
    "import traitlets"
   ]
  },
  {
   "cell_type": "markdown",
   "metadata": {},
   "source": [
    "Genero la sincronización de los Widgets previos, a fin de mostrar los valores equivalentes. Es se realiza mediante la sentecia *link*."
   ]
  },
  {
   "cell_type": "code",
   "execution_count": 9,
   "metadata": {},
   "outputs": [
    {
     "data": {
      "application/vnd.jupyter.widget-view+json": {
       "model_id": "100473e4bbe34ee88ad57bc05aaca943",
       "version_major": 2,
       "version_minor": 0
      },
      "text/plain": [
       "Label(value='Los valores binario y hexadecimal estan sincronizados')"
      ]
     },
     "metadata": {},
     "output_type": "display_data"
    },
    {
     "data": {
      "application/vnd.jupyter.widget-view+json": {
       "model_id": "fff1cef6f51d48c9a3bb5d0617c2eee0",
       "version_major": 2,
       "version_minor": 0
      },
      "text/plain": [
       "HexaWidget()"
      ]
     },
     "metadata": {},
     "output_type": "display_data"
    },
    {
     "data": {
      "application/vnd.jupyter.widget-view+json": {
       "model_id": "ed1d17195ce7422991f5bfed4a460cef",
       "version_major": 2,
       "version_minor": 0
      },
      "text/plain": [
       "BinaryWidget()"
      ]
     },
     "metadata": {},
     "output_type": "display_data"
    }
   ],
   "source": [
    "mesagge = widgets.Label(value = 'Los valores binario y hexadecimal estan sincronizados')\n",
    "whexa = HexaWidget()\n",
    "wbinary = BinaryWidget()\n",
    "l = traitlets.link((whexa, 'value'), (wbinary, 'value'))\n",
    "display(mesagge, whexa, wbinary)"
   ]
  },
  {
   "cell_type": "markdown",
   "metadata": {},
   "source": [
    "### Los siguientes, son simples Widgets para realizar impresiones y simular datos."
   ]
  },
  {
   "cell_type": "code",
   "execution_count": 13,
   "metadata": {},
   "outputs": [],
   "source": [
    "olla = widgets.IntSlider(\n",
    "    value=20,\n",
    "    min=0,\n",
    "    max=100,\n",
    "    step=10,\n",
    "    description='Olla de Hervor:',\n",
    "    disabled=False,\n",
    "    continuous_update=False,\n",
    "    orientation='horizontal',\n",
    "    readout=True,\n",
    "    readout_format='d'\n",
    ")"
   ]
  },
  {
   "cell_type": "code",
   "execution_count": 14,
   "metadata": {},
   "outputs": [
    {
     "data": {
      "application/vnd.jupyter.widget-view+json": {
       "model_id": "13dc9cfa4bc042398ea894a5324a836d",
       "version_major": 2,
       "version_minor": 0
      },
      "text/plain": [
       "IntSlider(value=20, continuous_update=False, description='Olla de Hervor:', step=10)"
      ]
     },
     "metadata": {},
     "output_type": "display_data"
    }
   ],
   "source": [
    "olla"
   ]
  },
  {
   "cell_type": "code",
   "execution_count": 11,
   "metadata": {},
   "outputs": [],
   "source": [
    "tbco2 = widgets.IntRangeSlider(\n",
    "    value=[5, 10],\n",
    "    min=0,\n",
    "    max=50,\n",
    "    step=5,\n",
    "    description='Tubo de Presion co2:',\n",
    "    disabled=False,\n",
    "    continuous_update=False,\n",
    "    orientation='horizontal',\n",
    "    readout=True,\n",
    "    readout_format='d',\n",
    ")"
   ]
  },
  {
   "cell_type": "code",
   "execution_count": 12,
   "metadata": {},
   "outputs": [
    {
     "data": {
      "application/vnd.jupyter.widget-view+json": {
       "model_id": "582c7531296d4e4e94a13c6ab3a03359",
       "version_major": 2,
       "version_minor": 0
      },
      "text/plain": [
       "IntRangeSlider(value=(5, 10), continuous_update=False, description='Tubo de Presion co2:', max=50, step=5)"
      ]
     },
     "metadata": {},
     "output_type": "display_data"
    }
   ],
   "source": [
    "tbco2"
   ]
  },
  {
   "cell_type": "markdown",
   "metadata": {},
   "source": [
    "### A continuación, realizo el cambio de un determinado Bit"
   ]
  },
  {
   "cell_type": "code",
   "execution_count": 2,
   "metadata": {},
   "outputs": [],
   "source": [
    "#Función que toma el valor del Widgets y lo introduce en un HTML para pasar a la funcion de Cambio de Bits.\n",
    "def f(x):\n",
    "    aux = str(x)\n",
    "    display(HTML(\"<div id='textid2'>\" + aux + \"</div>\"))\n",
    "    return x"
   ]
  },
  {
   "cell_type": "markdown",
   "metadata": {},
   "source": [
    "Slider utilizado para selecionar Bit a cambiar."
   ]
  },
  {
   "cell_type": "code",
   "execution_count": 3,
   "metadata": {},
   "outputs": [
    {
     "data": {
      "application/vnd.jupyter.widget-view+json": {
       "model_id": "7bae2172e7ae48b5a9566dab0e3d02b8",
       "version_major": 2,
       "version_minor": 0
      },
      "text/plain": [
       "interactive(children=(IntSlider(value=0, description='x', max=15), Output()), _dom_classes=('widget-interact',…"
      ]
     },
     "metadata": {},
     "output_type": "display_data"
    }
   ],
   "source": [
    "interact(f, x=widgets.IntSlider(min=0,max=15,step=1));"
   ]
  },
  {
   "cell_type": "code",
   "execution_count": 4,
   "metadata": {},
   "outputs": [
    {
     "data": {
      "text/html": [
       "<div id='textid'>1010101010101010</div>"
      ],
      "text/plain": [
       "<IPython.core.display.HTML object>"
      ]
     },
     "execution_count": 4,
     "metadata": {},
     "output_type": "execute_result"
    }
   ],
   "source": [
    "# Representación binaria\n",
    "mypynumber = str('1010101010101010')\n",
    "\n",
    "#Introuzco el número en el DOM llamando al widget HTML con un div\n",
    "HTML(\"<div id='textid'>\" + mypynumber + \"</div>\")"
   ]
  },
  {
   "cell_type": "code",
   "execution_count": 8,
   "metadata": {},
   "outputs": [
    {
     "data": {
      "application/javascript": [
       "\n",
       "// This is a javascript cell!\n",
       "\n",
       "// Let's get the number we made in python from the DOM\n",
       "//var myjsnumber = String(document.getElementById('textid').innerHTML);\n",
       "var myjsnumber = '1010101010101010';\n",
       "var numberchange = Number(document.getElementById('textid2').innerHTML);\n",
       "\n",
       "function changeBit (bits, bit) {\n",
       "  var result = bits;\n",
       "    var paso = result.split(\"\");\n",
       "    //Debo hacer comprobación para ver si pongo 0 o 1\n",
       "    if(paso [bit] == '0')\n",
       "    paso [bit] = '1'\n",
       "    else\n",
       "        paso [bit] = '0'\n",
       "    return result = paso.join(\"\");\n",
       "}\n",
       "\n",
       "var string4 = changeBit(myjsnumber, numberchange);\n",
       "\n",
       "// Send this back as a python variable (this just executes python statements)\n",
       "IPython.notebook.kernel.execute('myjsnumber=\"' + myjsnumber + '\";');\n",
       "IPython.notebook.kernel.execute('mypynumber=\"' + string4 + '\";');\n",
       "IPython.notebook.kernel.execute('numberchange=\"' + numberchange + '\";');\n"
      ],
      "text/plain": [
       "<IPython.core.display.Javascript object>"
      ]
     },
     "metadata": {},
     "output_type": "display_data"
    }
   ],
   "source": [
    "%%javascript\n",
    "\n",
    "// Obtengo la representación binaria y el numero de bit a cambiar\n",
    "var myjsnumber = '1010101010101010';\n",
    "var numberchange = Number(document.getElementById('textid2').innerHTML);\n",
    "\n",
    "function changeBit (bits, bit) {\n",
    "  let result = bits;\n",
    "    let paso = result.split(\"\");\n",
    "    //Debo hacer comprobación para setear a 0 o 1\n",
    "    if(paso [bit] == '0')\n",
    "    paso [bit] = '1'\n",
    "    else\n",
    "        paso [bit] = '0'\n",
    "    return result = paso.join(\"\");\n",
    "}\n",
    "\n",
    "var string4 = changeBit(myjsnumber, numberchange);\n",
    "\n",
    "// Ejecuta sentencias de python para retornar variables.\n",
    "IPython.notebook.kernel.execute('myjsnumber=\"' + myjsnumber + '\";');\n",
    "IPython.notebook.kernel.execute('mypynumber=\"' + string4 + '\";');\n",
    "IPython.notebook.kernel.execute('numberchange=\"' + numberchange + '\";');"
   ]
  },
  {
   "cell_type": "code",
   "execution_count": 9,
   "metadata": {},
   "outputs": [
    {
     "name": "stdout",
     "output_type": "stream",
     "text": [
      "1010101010101010\n",
      "1010101010111010\n",
      "11\n"
     ]
    }
   ],
   "source": [
    "\n",
    "print(myjsnumber)\n",
    "print(mypynumber)\n",
    "print(numberchange)"
   ]
  },
  {
   "cell_type": "markdown",
   "metadata": {},
   "source": [
    "### Realizo envio de mensajes Mediante MQTT"
   ]
  },
  {
   "cell_type": "code",
   "execution_count": 21,
   "metadata": {},
   "outputs": [
    {
     "name": "stdout",
     "output_type": "stream",
     "text": [
      "Ingrese el caracter \"a\" para enviar Datos de Olla de Herbor\n",
      "Ingrese el caracter \"b\" para enviar Datos de Olla de presión de co2\n",
      "DisConected result code 0\n",
      "log: Sending CONNECT (u0, p0, wr0, wq0, wf0, c1, k60) client_id=b'python_pub'\n",
      "Ingrese el caracter \"a\" o \"b\"b\n",
      "log: Received CONNACK (0, 0)\n",
      "Connected OK\n",
      "The result for inp is :  (10, 20)\n",
      "DisConected result code 0\n",
      "log: Sending CONNECT (u0, p0, wr0, wq0, wf0, c1, k60) client_id=b'python_pub'\n",
      "log: Received CONNACK (0, 0)\n",
      "Connected OK\n",
      "DisConected result code 0\n",
      "log: Sending CONNECT (u0, p0, wr0, wq0, wf0, c1, k60) client_id=b'python_pub'\n",
      "log: Received CONNACK (0, 0)\n",
      "Connected OK\n",
      "DisConected result code 0\n",
      "log: Sending CONNECT (u0, p0, wr0, wq0, wf0, c1, k60) client_id=b'python_pub'\n"
     ]
    }
   ],
   "source": [
    "b ={\n",
    "    'a' : olla.value,\n",
    "    'b' : tbco2.value\n",
    "}\n",
    "\n",
    "# take user input\n",
    "print('Ingrese el caracter \"a\" para enviar Datos de Olla de Herbor')\n",
    "print('Ingrese el caracter \"b\" para enviar Datos de Olla de presión de co2')\n",
    "inp = input('Ingrese el caracter \"a\" o \"b\"')\n",
    "\n",
    "msj = str(b.get(inp, -1))\n",
    "\n",
    "# -1 is the default value if there is no keys that matches the input\n",
    "print('The result for inp is : ', b.get(inp, -1))"
   ]
  },
  {
   "cell_type": "code",
   "execution_count": 22,
   "metadata": {},
   "outputs": [
    {
     "name": "stdout",
     "output_type": "stream",
     "text": [
      "log: Received CONNACK (0, 0)\n",
      "Connected OK\n",
      "log: Sending CONNECT (u0, p0, wr0, wq0, wf0, c1, k60) client_id=b'python_pub'\n",
      "log: Sending PUBLISH (d0, q0, r0, m1), 'b'/test/tba/'', ... (8 bytes)\n",
      "DisConected result code 0\n",
      "log: Received CONNACK (0, 0)\n",
      "Connected OK\n",
      "DisConected result code 0\n",
      "log: Sending CONNECT (u0, p0, wr0, wq0, wf0, c1, k60) client_id=b'python_pub'\n",
      "log: Received CONNACK (0, 0)\n",
      "Connected OK\n",
      "log: Sending CONNECT (u0, p0, wr0, wq0, wf0, c1, k60) client_id=b'python_pub'\n",
      "log: Received CONNACK (0, 0)DisConected result code 0\n",
      "Connected OK\n",
      "DisConected result code 0\n",
      "\n"
     ]
    },
    {
     "data": {
      "text/plain": [
       "4"
      ]
     },
     "execution_count": 22,
     "metadata": {},
     "output_type": "execute_result"
    },
    {
     "name": "stdout",
     "output_type": "stream",
     "text": [
      "log: Sending CONNECT (u0, p0, wr0, wq0, wf0, c1, k60) client_id=b'python_pub'\n",
      "log: Received CONNACK (0, 0)\n",
      "Connected OK\n",
      "DisConected result code 0\n",
      "log: Sending CONNECT (u0, p0, wr0, wq0, wf0, c1, k60) client_id=b'python_pub'\n"
     ]
    }
   ],
   "source": [
    "import paho.mqtt.client as mqtt\n",
    "import time\n",
    "\n",
    "def on_log(client, userdata, level, buf):\n",
    "    print(\"log: \"+buf)\n",
    "\n",
    "    # The callback for when the client receives a CONNACK response from the server.\n",
    "def on_connect(client, userdata, flags, rc):\n",
    "    if rc==0:\n",
    "        print(\"Connected OK\")\n",
    "    else:\n",
    "        print(\"Bad connection Returned code=\", rc)\n",
    "def on_disconnect(client, userdata, flags, rc=0):\n",
    "        print(\"DisConected result code \"+ str(rc))\n",
    "    \n",
    "# set up the mqtt client\n",
    "mqttc = mqtt.Client(\"python_pub\")\n",
    "\n",
    "mqttc.on_connect = on_connect\n",
    "mqttc.on_disconnect = on_disconnect\n",
    "mqttc.on_log = on_log\n",
    "\n",
    "\n",
    "# the server to publish to, and corresponding port\n",
    "mqttc.connect(\"test.mosquitto.org\", 1883, 60)\n",
    "mqttc.loop_start()\n",
    "\n",
    "# the topic to publish to, and the message to publish\n",
    "mqttc.publish(\"/test/tba/\", msj)\n",
    "\n",
    "# establish a four-second timeout\n",
    "time.sleep(4) # wait\n",
    "mqttc.loop_stop() #stop the loop\n",
    "mqttc.disconnect()"
   ]
  },
  {
   "cell_type": "code",
   "execution_count": null,
   "metadata": {},
   "outputs": [],
   "source": []
  }
 ],
 "metadata": {
  "kernelspec": {
   "display_name": "Python 3",
   "language": "python",
   "name": "python3"
  },
  "language_info": {
   "codemirror_mode": {
    "name": "ipython",
    "version": 3
   },
   "file_extension": ".py",
   "mimetype": "text/x-python",
   "name": "python",
   "nbconvert_exporter": "python",
   "pygments_lexer": "ipython3",
   "version": "3.7.2"
  }
 },
 "nbformat": 4,
 "nbformat_minor": 2
}
