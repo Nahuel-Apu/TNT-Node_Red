{
 "cells": [
  {
   "cell_type": "code",
   "execution_count": 2,
   "metadata": {},
   "outputs": [],
   "source": [
    "import ipywidgets as widgets\n",
    "from traitlets import Unicode, Int, validate"
   ]
  },
  {
   "cell_type": "code",
   "execution_count": 2,
   "metadata": {},
   "outputs": [],
   "source": [
    "class BinaryWidget(widgets.DOMWidget):\n",
    "    _view_name = Unicode('BinaryView').tag(sync=True)\n",
    "    _view_module = Unicode('binary').tag(sync=True)\n",
    "    value = Int(0).tag(sync=True)"
   ]
  },
  {
   "cell_type": "code",
   "execution_count": 3,
   "metadata": {},
   "outputs": [
    {
     "data": {
      "application/javascript": [
       "// We make sure the `counter` module is defined\n",
       "// only once.\n",
       "require.undef('binary');\n",
       "\n",
       "// We define the `counter` module depending on the\n",
       "// Jupyter widgets framework.\n",
       "define('binary', [\"@jupyter-widgets/base\"],\n",
       "       function(widgets) {\n",
       "\n",
       "    // We create the CounterView frontend class,\n",
       "    // deriving from DOMWidgetView.\n",
       "    var BinaryView = widgets.DOMWidgetView.extend({\n",
       "\n",
       "        // This method creates the HTML widget.\n",
       "        render: function() {\n",
       "            // The value_changed() method should be\n",
       "            // called when the model's value changes\n",
       "            // on the kernel side.\n",
       "            this.value_changed();\n",
       "            this.model.on('change:value',\n",
       "                          this.value_changed, this);\n",
       "\n",
       "            var model = this.model;\n",
       "            var that = this;\n",
       "\n",
       "            // We create the plus and minus buttons.\n",
       "            this.bm = $('<button/>')\n",
       "            .text('-')\n",
       "            .click(function() {\n",
       "                // When the button is clicked,\n",
       "                // the model's value is updated.\n",
       "                var x = model.get('value');\n",
       "                model.set('value', x - 1);\n",
       "                that.touch();\n",
       "            });\n",
       "\n",
       "            this.bp = $('<button/>')\n",
       "            .text('+')\n",
       "            .click(function() {\n",
       "                var x = model.get('value');\n",
       "                model.set('value', x + 1);\n",
       "                that.touch();\n",
       "            });\n",
       "            \n",
       "           // This element displays the current\n",
       "            // value of the counter.\n",
       "            this.span = $('<span />')\n",
       "            .text('0')\n",
       "            .css({marginLeft: '10px',\n",
       "                  marginRight: '10px'});\n",
       "\n",
       "            // this.el represents the widget's DOM\n",
       "            // element. We add the minus button,\n",
       "            // the span element, and the plus button.\n",
       "            $(this.el)\n",
       "            .append(this.bm)\n",
       "            .append(this.span)\n",
       "            .append(this.bp);\n",
       "        },      \n",
       "        \n",
       "        value_changed: function() {\n",
       "            // Update the displayed number when the\n",
       "            // counter's value changes.\n",
       "            \n",
       "            function pad(input, length, padding) { \n",
       "              var str = input + \"\";\n",
       "              return (length <= str.length) ? str : pad(padding + str, length, padding);\n",
       "            }\n",
       "            \n",
       "            var x = this.model.get('value');\n",
       "            var b = this.model.get('value');\n",
       "        \n",
       "            b = x.toString(2);\n",
       "            var bin = pad(b,16,\"0\");\n",
       "           \n",
       "            $($(this.el).children()[1]).text(bin);\n",
       "        },\n",
       "    });\n",
       "\n",
       "    return {\n",
       "        BinaryView : BinaryView\n",
       "    };\n",
       "});"
      ],
      "text/plain": [
       "<IPython.core.display.Javascript object>"
      ]
     },
     "metadata": {},
     "output_type": "display_data"
    }
   ],
   "source": [
    "%%javascript\n",
    "// We make sure the `counter` module is defined\n",
    "// only once.\n",
    "require.undef('binary');\n",
    "\n",
    "// We define the `counter` module depending on the\n",
    "// Jupyter widgets framework.\n",
    "define('binary', [\"@jupyter-widgets/base\"],\n",
    "       function(widgets) {\n",
    "\n",
    "    // We create the CounterView frontend class,\n",
    "    // deriving from DOMWidgetView.\n",
    "    var BinaryView = widgets.DOMWidgetView.extend({\n",
    "\n",
    "        // This method creates the HTML widget.\n",
    "        render: function() {\n",
    "            // The value_changed() method should be\n",
    "            // called when the model's value changes\n",
    "            // on the kernel side.\n",
    "            this.value_changed();\n",
    "            this.model.on('change:value',\n",
    "                          this.value_changed, this);\n",
    "\n",
    "            var model = this.model;\n",
    "            var that = this;\n",
    "\n",
    "            // We create the plus and minus buttons.\n",
    "            this.bm = $('<button/>')\n",
    "            .text('-')\n",
    "            .click(function() {\n",
    "                // When the button is clicked,\n",
    "                // the model's value is updated.\n",
    "                var x = model.get('value');\n",
    "                model.set('value', x - 1);\n",
    "                that.touch();\n",
    "            });\n",
    "\n",
    "            this.bp = $('<button/>')\n",
    "            .text('+')\n",
    "            .click(function() {\n",
    "                var x = model.get('value');\n",
    "                model.set('value', x + 1);\n",
    "                that.touch();\n",
    "            });\n",
    "            \n",
    "           // This element displays the current\n",
    "            // value of the counter.\n",
    "            this.span = $('<span />')\n",
    "            .text('0')\n",
    "            .css({marginLeft: '10px',\n",
    "                  marginRight: '10px'});\n",
    "\n",
    "            // this.el represents the widget's DOM\n",
    "            // element. We add the minus button,\n",
    "            // the span element, and the plus button.\n",
    "            $(this.el)\n",
    "            .append(this.bm)\n",
    "            .append(this.span)\n",
    "            .append(this.bp);\n",
    "        },      \n",
    "        \n",
    "        value_changed: function() {\n",
    "            // Update the displayed number when the\n",
    "            // counter's value changes.\n",
    "            \n",
    "            function pad(input, length, padding) { \n",
    "              var str = input + \"\";\n",
    "              return (length <= str.length) ? str : pad(padding + str, length, padding);\n",
    "            }\n",
    "            \n",
    "            var x = this.model.get('value');\n",
    "            var b = this.model.get('value');\n",
    "        \n",
    "            b = x.toString(2);\n",
    "            var bin = pad(b,16,\"0\");\n",
    "           \n",
    "            $($(this.el).children()[1]).text(bin);\n",
    "        },\n",
    "    });\n",
    "\n",
    "    return {\n",
    "        BinaryView : BinaryView\n",
    "    };\n",
    "});"
   ]
  },
  {
   "cell_type": "code",
   "execution_count": 4,
   "metadata": {},
   "outputs": [
    {
     "data": {
      "application/vnd.jupyter.widget-view+json": {
       "model_id": "915a81b55c0942ba870b70da0a6f02ba",
       "version_major": 2,
       "version_minor": 0
      },
      "text/plain": [
       "BinaryWidget()"
      ]
     },
     "metadata": {},
     "output_type": "display_data"
    }
   ],
   "source": [
    "w = BinaryWidget()\n",
    "w"
   ]
  },
  {
   "cell_type": "code",
   "execution_count": 5,
   "metadata": {},
   "outputs": [],
   "source": [
    "class HexaWidget(widgets.DOMWidget):\n",
    "    _view_name = Unicode('HexaView').tag(sync=True)\n",
    "    _view_module = Unicode('hexa').tag(sync=True)\n",
    "    value = Int(0).tag(sync=True)"
   ]
  },
  {
   "cell_type": "code",
   "execution_count": 6,
   "metadata": {},
   "outputs": [
    {
     "data": {
      "application/javascript": [
       "// We make sure the `counter` module is defined\n",
       "// only once.\n",
       "require.undef('hexa');\n",
       "\n",
       "// We define the `counter` module depending on the\n",
       "// Jupyter widgets framework.\n",
       "define('hexa', [\"@jupyter-widgets/base\"],\n",
       "       function(widgets) {\n",
       "\n",
       "    // We create the CounterView frontend class,\n",
       "    // deriving from DOMWidgetView.\n",
       "    var HexaView = widgets.DOMWidgetView.extend({\n",
       "\n",
       "        // This method creates the HTML widget.\n",
       "        render: function() {\n",
       "            // The value_changed() method should be\n",
       "            // called when the model's value changes\n",
       "            // on the kernel side.\n",
       "            this.value_changed();\n",
       "            this.model.on('change:value',\n",
       "                          this.value_changed, this);\n",
       "\n",
       "            var model = this.model;\n",
       "            var that = this;\n",
       "\n",
       "            // We create the plus and minus buttons.\n",
       "            this.bm = $('<button/>')\n",
       "            .text('-')\n",
       "            .click(function() {\n",
       "                // When the button is clicked,\n",
       "                // the model's value is updated.\n",
       "                var x = model.get('value');\n",
       "                model.set('value', x - 1);\n",
       "                that.touch();\n",
       "            });\n",
       "\n",
       "            this.bp = $('<button/>')\n",
       "            .text('+')\n",
       "            .click(function() {\n",
       "                var x = model.get('value');\n",
       "                model.set('value', x + 1);\n",
       "                that.touch();\n",
       "            });\n",
       "            \n",
       "           // This element displays the current\n",
       "            // value of the counter.\n",
       "            this.span = $('<span />')\n",
       "            .text('0')\n",
       "            .css({marginLeft: '10px',\n",
       "                  marginRight: '10px'});\n",
       "\n",
       "            // this.el represents the widget's DOM\n",
       "            // element. We add the minus button,\n",
       "            // the span element, and the plus button.\n",
       "            $(this.el)\n",
       "            .append(this.bm)\n",
       "            .append(this.span)\n",
       "            .append(this.bp);\n",
       "        },\n",
       "\n",
       "        value_changed: function() {\n",
       "            // Update the displayed number when the\n",
       "            // counter's value changes.\n",
       "   \n",
       "            function pad(input, length, padding) { \n",
       "              var str = input + \"\";\n",
       "              return (length <= str.length) ? str : pad(padding + str, length, padding);\n",
       "            }\n",
       "            \n",
       "            var x = this.model.get('value');\n",
       "            var h = this.model.get('value');\n",
       "        \n",
       "            h = x.toString(16);\n",
       "            var hexa = pad(h,4,\"0\");\n",
       "           \n",
       "            $($(this.el).children()[1]).text(hexa);\n",
       "        },\n",
       "    });\n",
       "\n",
       "    return {\n",
       "        HexaView : HexaView\n",
       "    };\n",
       "});"
      ],
      "text/plain": [
       "<IPython.core.display.Javascript object>"
      ]
     },
     "metadata": {},
     "output_type": "display_data"
    }
   ],
   "source": [
    "%%javascript\n",
    "// We make sure the `counter` module is defined\n",
    "// only once.\n",
    "require.undef('hexa');\n",
    "\n",
    "// We define the `counter` module depending on the\n",
    "// Jupyter widgets framework.\n",
    "define('hexa', [\"@jupyter-widgets/base\"],\n",
    "       function(widgets) {\n",
    "\n",
    "    // We create the CounterView frontend class,\n",
    "    // deriving from DOMWidgetView.\n",
    "    var HexaView = widgets.DOMWidgetView.extend({\n",
    "\n",
    "        // This method creates the HTML widget.\n",
    "        render: function() {\n",
    "            // The value_changed() method should be\n",
    "            // called when the model's value changes\n",
    "            // on the kernel side.\n",
    "            this.value_changed();\n",
    "            this.model.on('change:value',\n",
    "                          this.value_changed, this);\n",
    "\n",
    "            var model = this.model;\n",
    "            var that = this;\n",
    "\n",
    "            // We create the plus and minus buttons.\n",
    "            this.bm = $('<button/>')\n",
    "            .text('-')\n",
    "            .click(function() {\n",
    "                // When the button is clicked,\n",
    "                // the model's value is updated.\n",
    "                var x = model.get('value');\n",
    "                model.set('value', x - 1);\n",
    "                that.touch();\n",
    "            });\n",
    "\n",
    "            this.bp = $('<button/>')\n",
    "            .text('+')\n",
    "            .click(function() {\n",
    "                var x = model.get('value');\n",
    "                model.set('value', x + 1);\n",
    "                that.touch();\n",
    "            });\n",
    "            \n",
    "           // This element displays the current\n",
    "            // value of the counter.\n",
    "            this.span = $('<span />')\n",
    "            .text('0')\n",
    "            .css({marginLeft: '10px',\n",
    "                  marginRight: '10px'});\n",
    "\n",
    "            // this.el represents the widget's DOM\n",
    "            // element. We add the minus button,\n",
    "            // the span element, and the plus button.\n",
    "            $(this.el)\n",
    "            .append(this.bm)\n",
    "            .append(this.span)\n",
    "            .append(this.bp);\n",
    "        },\n",
    "\n",
    "        value_changed: function() {\n",
    "            // Update the displayed number when the\n",
    "            // counter's value changes.\n",
    "   \n",
    "            function pad(input, length, padding) { \n",
    "              var str = input + \"\";\n",
    "              return (length <= str.length) ? str : pad(padding + str, length, padding);\n",
    "            }\n",
    "            \n",
    "            var x = this.model.get('value');\n",
    "            var h = this.model.get('value');\n",
    "        \n",
    "            h = x.toString(16);\n",
    "            var hexa = pad(h,4,\"0\");\n",
    "           \n",
    "            $($(this.el).children()[1]).text(hexa);\n",
    "        },\n",
    "    });\n",
    "\n",
    "    return {\n",
    "        HexaView : HexaView\n",
    "    };\n",
    "});"
   ]
  },
  {
   "cell_type": "code",
   "execution_count": 7,
   "metadata": {},
   "outputs": [
    {
     "data": {
      "application/vnd.jupyter.widget-view+json": {
       "model_id": "3be27ef4ad79405c88dd0e68005c72fc",
       "version_major": 2,
       "version_minor": 0
      },
      "text/plain": [
       "HexaWidget()"
      ]
     },
     "metadata": {},
     "output_type": "display_data"
    }
   ],
   "source": [
    "wh = HexaWidget()\n",
    "wh"
   ]
  },
  {
   "cell_type": "code",
   "execution_count": 9,
   "metadata": {},
   "outputs": [],
   "source": [
    "import traitlets"
   ]
  },
  {
   "cell_type": "code",
   "execution_count": 10,
   "metadata": {},
   "outputs": [
    {
     "data": {
      "application/vnd.jupyter.widget-view+json": {
       "model_id": "68b1d1b0150344f1ad72f922af17b9f5",
       "version_major": 2,
       "version_minor": 0
      },
      "text/plain": [
       "Label(value='Los valores binario y hexadecimal estan sincronizados')"
      ]
     },
     "metadata": {},
     "output_type": "display_data"
    },
    {
     "data": {
      "application/vnd.jupyter.widget-view+json": {
       "model_id": "d2430709b7094f768c6f797e3684fb5f",
       "version_major": 2,
       "version_minor": 0
      },
      "text/plain": [
       "HexaWidget()"
      ]
     },
     "metadata": {},
     "output_type": "display_data"
    },
    {
     "data": {
      "application/vnd.jupyter.widget-view+json": {
       "model_id": "b5f7e74a3bf846788302c6d5f79d5001",
       "version_major": 2,
       "version_minor": 0
      },
      "text/plain": [
       "BinaryWidget()"
      ]
     },
     "metadata": {},
     "output_type": "display_data"
    }
   ],
   "source": [
    "mesagge = widgets.Label(value = 'Los valores binario y hexadecimal estan sincronizados')\n",
    "whexa = HexaWidget()\n",
    "wbinary = BinaryWidget()\n",
    "l = traitlets.link((whexa, 'value'), (wbinary, 'value'))\n",
    "display(mesagge, whexa, wbinary)"
   ]
  },
  {
   "cell_type": "code",
   "execution_count": 11,
   "metadata": {},
   "outputs": [
    {
     "data": {
      "application/vnd.jupyter.widget-view+json": {
       "model_id": "53846e35aa0747218add6ff4d69b85cf",
       "version_major": 2,
       "version_minor": 0
      },
      "text/plain": [
       "IntSlider(value=20, continuous_update=False, description='Olla de Hervor:', step=10)"
      ]
     },
     "metadata": {},
     "output_type": "display_data"
    }
   ],
   "source": [
    "widgets.IntSlider(\n",
    "    value=20,\n",
    "    min=0,\n",
    "    max=100,\n",
    "    step=10,\n",
    "    description='Olla de Hervor:',\n",
    "    disabled=False,\n",
    "    continuous_update=False,\n",
    "    orientation='horizontal',\n",
    "    readout=True,\n",
    "    readout_format='d'\n",
    ")"
   ]
  },
  {
   "cell_type": "code",
   "execution_count": 12,
   "metadata": {},
   "outputs": [
    {
     "data": {
      "application/vnd.jupyter.widget-view+json": {
       "model_id": "37ad39643ca540cf82727cb14ad88880",
       "version_major": 2,
       "version_minor": 0
      },
      "text/plain": [
       "IntRangeSlider(value=(5, 10), continuous_update=False, description='Tubo de Presion co2:', max=50, step=5)"
      ]
     },
     "metadata": {},
     "output_type": "display_data"
    }
   ],
   "source": [
    "widgets.IntRangeSlider(\n",
    "    value=[5, 10],\n",
    "    min=0,\n",
    "    max=50,\n",
    "    step=5,\n",
    "    description='Tubo de Presion co2:',\n",
    "    disabled=False,\n",
    "    continuous_update=False,\n",
    "    orientation='horizontal',\n",
    "    readout=True,\n",
    "    readout_format='d',\n",
    ")"
   ]
  },
  {
   "cell_type": "code",
   "execution_count": 4,
   "metadata": {},
   "outputs": [
    {
     "data": {
      "application/vnd.jupyter.widget-view+json": {
       "model_id": "6f0d16802e41468e8c7e22081603bbff",
       "version_major": 2,
       "version_minor": 0
      },
      "text/plain": [
       "IntSlider(value=7, max=15)"
      ]
     },
     "metadata": {},
     "output_type": "display_data"
    },
    {
     "data": {
      "text/html": [
       "<div id='textid2'>7</div>"
      ],
      "text/plain": [
       "<IPython.core.display.HTML object>"
      ]
     },
     "execution_count": 4,
     "metadata": {},
     "output_type": "execute_result"
    }
   ],
   "source": [
    "from IPython.display import HTML\n",
    "\n",
    "valueChange = widgets.IntSlider(min=0,max=15,step=1,value=7)\n",
    "display(valueChange)\n",
    "\n",
    "HTML(\"<div id='textid2'>\" + str(valueChange.value) + \"</div>\")"
   ]
  },
  {
   "cell_type": "code",
   "execution_count": 5,
   "metadata": {},
   "outputs": [
    {
     "data": {
      "text/html": [
       "<div id='textid'>010101010</div>"
      ],
      "text/plain": [
       "<IPython.core.display.HTML object>"
      ]
     },
     "execution_count": 5,
     "metadata": {},
     "output_type": "execute_result"
    }
   ],
   "source": [
    "# Here's a python cell!\n",
    "\n",
    "from IPython.display import HTML\n",
    "\n",
    "mypynumber = str('010101010')\n",
    "\n",
    "# Now we embed this number in the DOM by calling the HTML widget \n",
    "#   with a div element\n",
    "HTML(\"<div id='textid'>\" + mypynumber + \"</div>\")"
   ]
  },
  {
   "cell_type": "code",
   "execution_count": 6,
   "metadata": {},
   "outputs": [
    {
     "data": {
      "application/javascript": [
       "\n",
       "// This is a javascript cell!\n",
       "\n",
       "// Let's get the number we made in python from the DOM\n",
       "var myjsnumber = String(document.getElementById('textid').innerHTML);\n",
       "var numberchange = String(document.getElementById('textid2').innerHTML);\n",
       "\n",
       "function changeBit (bits, bit) {\n",
       "  var result = bits;\n",
       "    var paso = result.split(\"\");\n",
       "    //Debo hacer comprobación para ver si pongo 0 o 1\n",
       "    if(paso [bit] == '0')\n",
       "    paso [bit] = '1'\n",
       "    else\n",
       "        paso [bit] = '0'\n",
       "    return result = paso.join(\"\");\n",
       "}\n",
       "\n",
       "var string4 = changeBit(myjsnumber, numberchange);\n",
       "\n",
       "// Send this back as a python variable (this just executes python statements)\n",
       "IPython.notebook.kernel.execute('mypynumber=\"' + string4 + '\";');"
      ],
      "text/plain": [
       "<IPython.core.display.Javascript object>"
      ]
     },
     "metadata": {},
     "output_type": "display_data"
    }
   ],
   "source": [
    "%%javascript\n",
    "\n",
    "// This is a javascript cell!\n",
    "\n",
    "// Let's get the number we made in python from the DOM\n",
    "var myjsnumber = String(document.getElementById('textid').innerHTML);\n",
    "var numberchange = String(document.getElementById('textid2').innerHTML);\n",
    "\n",
    "function changeBit (bits, bit) {\n",
    "  var result = bits;\n",
    "    var paso = result.split(\"\");\n",
    "    //Debo hacer comprobación para ver si pongo 0 o 1\n",
    "    if(paso [bit] == '0')\n",
    "    paso [bit] = '1'\n",
    "    else\n",
    "        paso [bit] = '0'\n",
    "    return result = paso.join(\"\");\n",
    "}\n",
    "\n",
    "var string4 = changeBit(myjsnumber, numberchange);\n",
    "\n",
    "// Send this back as a python variable (this just executes python statements)\n",
    "IPython.notebook.kernel.execute('mypynumber=\"' + string4 + '\";');"
   ]
  },
  {
   "cell_type": "code",
   "execution_count": 7,
   "metadata": {},
   "outputs": [
    {
     "data": {
      "text/plain": [
       "'010101000'"
      ]
     },
     "execution_count": 7,
     "metadata": {},
     "output_type": "execute_result"
    }
   ],
   "source": [
    "# This is a python cell!\n",
    "\n",
    "# Has this been incremented?\n",
    "mypynumber"
   ]
  },
  {
   "cell_type": "code",
   "execution_count": null,
   "metadata": {},
   "outputs": [],
   "source": []
  }
 ],
 "metadata": {
  "kernelspec": {
   "display_name": "Python 3",
   "language": "python",
   "name": "python3"
  },
  "language_info": {
   "codemirror_mode": {
    "name": "ipython",
    "version": 3
   },
   "file_extension": ".py",
   "mimetype": "text/x-python",
   "name": "python",
   "nbconvert_exporter": "python",
   "pygments_lexer": "ipython3",
   "version": "3.6.5"
  }
 },
 "nbformat": 4,
 "nbformat_minor": 2
}
